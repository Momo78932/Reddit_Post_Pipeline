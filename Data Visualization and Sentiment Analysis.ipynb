{
 "cells": [
  {
   "cell_type": "code",
   "execution_count": null,
   "id": "3e3f8a55",
   "metadata": {},
   "outputs": [],
   "source": []
  },
  {
   "cell_type": "code",
   "execution_count": null,
   "id": "fcde2041",
   "metadata": {},
   "outputs": [],
   "source": []
  },
  {
   "cell_type": "code",
   "execution_count": null,
   "id": "a106bff7",
   "metadata": {},
   "outputs": [],
   "source": []
  },
  {
   "cell_type": "code",
   "execution_count": null,
   "id": "2dbebfc8",
   "metadata": {},
   "outputs": [],
   "source": []
  },
  {
   "cell_type": "code",
   "execution_count": null,
   "id": "2c23b15c",
   "metadata": {},
   "outputs": [],
   "source": []
  },
  {
   "cell_type": "code",
   "execution_count": 71,
   "id": "333a1264",
   "metadata": {},
   "outputs": [],
   "source": [
    "import pandas as pd\n",
    "import numpy as np \n",
    "import seaborn as sns\n",
    "import matplotlib.pyplot as plt\n",
    "from wordcloud import WordCloud, STOPWORDS\n",
    "from PIL import Image\n",
    "import plotly.express as px\n"
   ]
  },
  {
   "cell_type": "code",
   "execution_count": 2,
   "id": "1606d96d",
   "metadata": {},
   "outputs": [],
   "source": [
    "df_post = pd.read_csv('output/posts_output.csv')\n",
    "df_news = pd.read_csv('output/news_output.csv')"
   ]
  },
  {
   "cell_type": "code",
   "execution_count": 3,
   "id": "8244ff47",
   "metadata": {},
   "outputs": [
    {
     "name": "stdout",
     "output_type": "stream",
     "text": [
      "post_id            object\n",
      "subreddit_id        int64\n",
      "date_generated     object\n",
      "date_inserted      object\n",
      "title              object\n",
      "subjectivity      float64\n",
      "polarity          float64\n",
      "dtype: object\n",
      "\n",
      "news_id            object\n",
      "subreddit_id        int64\n",
      "date_generated     object\n",
      "date_inserted      object\n",
      "polarity          float64\n",
      "dtype: object\n"
     ]
    }
   ],
   "source": [
    "print(df_post.dtypes)\n",
    "print()\n",
    "print(df_news.dtypes)"
   ]
  },
  {
   "cell_type": "code",
   "execution_count": 4,
   "id": "49397e28",
   "metadata": {},
   "outputs": [],
   "source": [
    "gpt_post = df_post[df_post['subreddit_id'] == 1]\n",
    "gpt_news = df_news[df_news['subreddit_id'] == 1]"
   ]
  },
  {
   "cell_type": "code",
   "execution_count": 5,
   "id": "da1841ff",
   "metadata": {},
   "outputs": [
    {
     "data": {
      "text/html": [
       "<div>\n",
       "<style scoped>\n",
       "    .dataframe tbody tr th:only-of-type {\n",
       "        vertical-align: middle;\n",
       "    }\n",
       "\n",
       "    .dataframe tbody tr th {\n",
       "        vertical-align: top;\n",
       "    }\n",
       "\n",
       "    .dataframe thead th {\n",
       "        text-align: right;\n",
       "    }\n",
       "</style>\n",
       "<table border=\"1\" class=\"dataframe\">\n",
       "  <thead>\n",
       "    <tr style=\"text-align: right;\">\n",
       "      <th></th>\n",
       "      <th>post_id</th>\n",
       "      <th>subreddit_id</th>\n",
       "      <th>date_generated</th>\n",
       "      <th>date_inserted</th>\n",
       "      <th>title</th>\n",
       "      <th>subjectivity</th>\n",
       "      <th>polarity</th>\n",
       "    </tr>\n",
       "  </thead>\n",
       "  <tbody>\n",
       "    <tr>\n",
       "      <th>0</th>\n",
       "      <td>655026de54a7246a1e6f98371</td>\n",
       "      <td>1</td>\n",
       "      <td>2023-11-11</td>\n",
       "      <td>2023-12-11 07:46:49</td>\n",
       "      <td>Join Talkie's AI Character Contest! 🎨 Prize Po...</td>\n",
       "      <td>0.000</td>\n",
       "      <td>0.000</td>\n",
       "    </tr>\n",
       "    <tr>\n",
       "      <th>1</th>\n",
       "      <td>655026de54a7246a1e6f983710</td>\n",
       "      <td>1</td>\n",
       "      <td>2023-11-11</td>\n",
       "      <td>2023-12-11 07:46:49</td>\n",
       "      <td>‘Motion Brush’ is new Runway Feature</td>\n",
       "      <td>0.455</td>\n",
       "      <td>0.136</td>\n",
       "    </tr>\n",
       "    <tr>\n",
       "      <th>2</th>\n",
       "      <td>655026de54a7246a1e6f98372</td>\n",
       "      <td>1</td>\n",
       "      <td>2023-11-11</td>\n",
       "      <td>2023-12-11 07:46:49</td>\n",
       "      <td>Weekly Self-Promotional Mega Thread 7, 06.11.2...</td>\n",
       "      <td>0.000</td>\n",
       "      <td>0.000</td>\n",
       "    </tr>\n",
       "    <tr>\n",
       "      <th>3</th>\n",
       "      <td>655026de54a7246a1e6f98373</td>\n",
       "      <td>1</td>\n",
       "      <td>2023-11-11</td>\n",
       "      <td>2023-12-11 07:46:49</td>\n",
       "      <td>Literal movie titles</td>\n",
       "      <td>0.000</td>\n",
       "      <td>0.000</td>\n",
       "    </tr>\n",
       "    <tr>\n",
       "      <th>4</th>\n",
       "      <td>655026de54a7246a1e6f98374</td>\n",
       "      <td>1</td>\n",
       "      <td>2023-11-11</td>\n",
       "      <td>2023-12-11 07:46:49</td>\n",
       "      <td>Did this hammered in the back of an Uber. I'm ...</td>\n",
       "      <td>0.300</td>\n",
       "      <td>0.350</td>\n",
       "    </tr>\n",
       "  </tbody>\n",
       "</table>\n",
       "</div>"
      ],
      "text/plain": [
       "                      post_id  subreddit_id date_generated  \\\n",
       "0   655026de54a7246a1e6f98371             1     2023-11-11   \n",
       "1  655026de54a7246a1e6f983710             1     2023-11-11   \n",
       "2   655026de54a7246a1e6f98372             1     2023-11-11   \n",
       "3   655026de54a7246a1e6f98373             1     2023-11-11   \n",
       "4   655026de54a7246a1e6f98374             1     2023-11-11   \n",
       "\n",
       "         date_inserted                                              title  \\\n",
       "0  2023-12-11 07:46:49  Join Talkie's AI Character Contest! 🎨 Prize Po...   \n",
       "1  2023-12-11 07:46:49               ‘Motion Brush’ is new Runway Feature   \n",
       "2  2023-12-11 07:46:49  Weekly Self-Promotional Mega Thread 7, 06.11.2...   \n",
       "3  2023-12-11 07:46:49                               Literal movie titles   \n",
       "4  2023-12-11 07:46:49  Did this hammered in the back of an Uber. I'm ...   \n",
       "\n",
       "   subjectivity  polarity  \n",
       "0         0.000     0.000  \n",
       "1         0.455     0.136  \n",
       "2         0.000     0.000  \n",
       "3         0.000     0.000  \n",
       "4         0.300     0.350  "
      ]
     },
     "execution_count": 5,
     "metadata": {},
     "output_type": "execute_result"
    }
   ],
   "source": [
    "gpt_post.head()"
   ]
  },
  {
   "cell_type": "markdown",
   "id": "9ea51437",
   "metadata": {},
   "source": [
    "## Visualization\n",
    "- Reddit Post: subjectivity vs polarity\n",
    "- News polarity vs Reddit Post Polarity"
   ]
  },
  {
   "cell_type": "markdown",
   "id": "d60a02c7",
   "metadata": {},
   "source": [
    "### Word Cloud: Reddit Post"
   ]
  },
  {
   "cell_type": "code",
   "execution_count": 6,
   "id": "5080af36",
   "metadata": {},
   "outputs": [
    {
     "data": {
      "image/png": "[encoded data removed]",
      "text/plain": [
       "<Figure size 800x800 with 1 Axes>"
      ]
     },
     "metadata": {},
     "output_type": "display_data"
    }
   ],
   "source": [
    "# Concatenate all the text in the column into a single string\n",
    "text = ' '.join(gpt_post['title'])\n",
    "\n",
    "# Load a mask image\n",
    "mask_image_path = 'image/world_map.jpg' \n",
    "mask_image = np.array(Image.open(mask_image_path))\n",
    "\n",
    "# The mask image provided is black on white, so we need to invert the image\n",
    "# The words will fill the black area, which is represented by True in the mask\n",
    "# We use np.invert for binary masks (black and white images)\n",
    "mask_inverted = np.invert(mask_image[:, :, :3].mean(axis=2) > 128)\n",
    "\n",
    "# Create a word cloud object\n",
    "wc = WordCloud(background_color=\"white\", \n",
    "               max_words=200, \n",
    "               mask=mask_image, \n",
    "               contour_width=1, \n",
    "               contour_color='steelblue')\n",
    "\n",
    "# Generate the word cloud\n",
    "wc.generate(text)\n",
    "\n",
    "# Display the word cloud using matplotlib\n",
    "plt.figure(figsize=(8, 8), frameon=False)\n",
    "plt.imshow(wc, interpolation='bilinear')\n",
    "plt.axis(\"off\")\n",
    "plt.show()"
   ]
  },
  {
   "cell_type": "markdown",
   "id": "b9c744bd",
   "metadata": {},
   "source": [
    "### Joint Plot - Subjectivity vs Polarity"
   ]
  },
  {
   "cell_type": "code",
   "execution_count": 7,
   "id": "58b985f1",
   "metadata": {},
   "outputs": [
    {
     "data": {
      "image/png": "[encoded data removed]",
      "text/plain": [
       "<Figure size 600x600 with 3 Axes>"
      ]
     },
     "metadata": {},
     "output_type": "display_data"
    }
   ],
   "source": [
    "# Plot a joint plot using seaborn\n",
    "sns.set_theme(style=\"whitegrid\")\n",
    "joint_plot = sns.jointplot(data=gpt_post, \n",
    "                           x='subjectivity', \n",
    "                           y='polarity', \n",
    "                           kind='hex', \n",
    "                           color='#d5bdaf', \n",
    "                           space=0, \n",
    "                           gridsize=16,\n",
    "                           mincnt=1,\n",
    "                           vmax=10,\n",
    "                           marginal_kws=dict(bins=10, fill=True, color = '#d6ccc2'))\n",
    "\n",
    "\n",
    "\n",
    "# Adding titles\n",
    "joint_plot.fig.suptitle('Reddit Post Subjectivity vs Polarity')\n",
    "\n",
    "# Adjusting axis labels with specified font size\n",
    "joint_plot.set_axis_labels('Subjectivity', 'Polarity', fontsize=12)\n",
    "\n",
    "# Adjust the figure to prevent the title from being cut off\n",
    "joint_plot.fig.subplots_adjust(top=0.95)\n",
    "\n",
    "# Show the plot\n",
    "plt.show()"
   ]
  },
  {
   "cell_type": "markdown",
   "id": "5c69dc13",
   "metadata": {},
   "source": [
    "### Point Plot - News polarity vs Reddit Post Polarity"
   ]
  },
  {
   "cell_type": "code",
   "execution_count": 8,
   "id": "0e53e3e9",
   "metadata": {},
   "outputs": [
    {
     "data": {
      "text/html": [
       "<div>\n",
       "<style scoped>\n",
       "    .dataframe tbody tr th:only-of-type {\n",
       "        vertical-align: middle;\n",
       "    }\n",
       "\n",
       "    .dataframe tbody tr th {\n",
       "        vertical-align: top;\n",
       "    }\n",
       "\n",
       "    .dataframe thead th {\n",
       "        text-align: right;\n",
       "    }\n",
       "</style>\n",
       "<table border=\"1\" class=\"dataframe\">\n",
       "  <thead>\n",
       "    <tr style=\"text-align: right;\">\n",
       "      <th></th>\n",
       "      <th>post_id</th>\n",
       "      <th>subreddit_id</th>\n",
       "      <th>date_generated</th>\n",
       "      <th>date_inserted</th>\n",
       "      <th>title</th>\n",
       "      <th>subjectivity</th>\n",
       "      <th>polarity</th>\n",
       "    </tr>\n",
       "  </thead>\n",
       "  <tbody>\n",
       "    <tr>\n",
       "      <th>0</th>\n",
       "      <td>655026de54a7246a1e6f98371</td>\n",
       "      <td>1</td>\n",
       "      <td>2023-11-11</td>\n",
       "      <td>2023-12-11 07:46:49</td>\n",
       "      <td>Join Talkie's AI Character Contest! 🎨 Prize Po...</td>\n",
       "      <td>0.000</td>\n",
       "      <td>0.000</td>\n",
       "    </tr>\n",
       "    <tr>\n",
       "      <th>1</th>\n",
       "      <td>655026de54a7246a1e6f983710</td>\n",
       "      <td>1</td>\n",
       "      <td>2023-11-11</td>\n",
       "      <td>2023-12-11 07:46:49</td>\n",
       "      <td>‘Motion Brush’ is new Runway Feature</td>\n",
       "      <td>0.455</td>\n",
       "      <td>0.136</td>\n",
       "    </tr>\n",
       "    <tr>\n",
       "      <th>2</th>\n",
       "      <td>655026de54a7246a1e6f98372</td>\n",
       "      <td>1</td>\n",
       "      <td>2023-11-11</td>\n",
       "      <td>2023-12-11 07:46:49</td>\n",
       "      <td>Weekly Self-Promotional Mega Thread 7, 06.11.2...</td>\n",
       "      <td>0.000</td>\n",
       "      <td>0.000</td>\n",
       "    </tr>\n",
       "    <tr>\n",
       "      <th>3</th>\n",
       "      <td>655026de54a7246a1e6f98373</td>\n",
       "      <td>1</td>\n",
       "      <td>2023-11-11</td>\n",
       "      <td>2023-12-11 07:46:49</td>\n",
       "      <td>Literal movie titles</td>\n",
       "      <td>0.000</td>\n",
       "      <td>0.000</td>\n",
       "    </tr>\n",
       "    <tr>\n",
       "      <th>4</th>\n",
       "      <td>655026de54a7246a1e6f98374</td>\n",
       "      <td>1</td>\n",
       "      <td>2023-11-11</td>\n",
       "      <td>2023-12-11 07:46:49</td>\n",
       "      <td>Did this hammered in the back of an Uber. I'm ...</td>\n",
       "      <td>0.300</td>\n",
       "      <td>0.350</td>\n",
       "    </tr>\n",
       "  </tbody>\n",
       "</table>\n",
       "</div>"
      ],
      "text/plain": [
       "                      post_id  subreddit_id date_generated  \\\n",
       "0   655026de54a7246a1e6f98371             1     2023-11-11   \n",
       "1  655026de54a7246a1e6f983710             1     2023-11-11   \n",
       "2   655026de54a7246a1e6f98372             1     2023-11-11   \n",
       "3   655026de54a7246a1e6f98373             1     2023-11-11   \n",
       "4   655026de54a7246a1e6f98374             1     2023-11-11   \n",
       "\n",
       "         date_inserted                                              title  \\\n",
       "0  2023-12-11 07:46:49  Join Talkie's AI Character Contest! 🎨 Prize Po...   \n",
       "1  2023-12-11 07:46:49               ‘Motion Brush’ is new Runway Feature   \n",
       "2  2023-12-11 07:46:49  Weekly Self-Promotional Mega Thread 7, 06.11.2...   \n",
       "3  2023-12-11 07:46:49                               Literal movie titles   \n",
       "4  2023-12-11 07:46:49  Did this hammered in the back of an Uber. I'm ...   \n",
       "\n",
       "   subjectivity  polarity  \n",
       "0         0.000     0.000  \n",
       "1         0.455     0.136  \n",
       "2         0.000     0.000  \n",
       "3         0.000     0.000  \n",
       "4         0.300     0.350  "
      ]
     },
     "execution_count": 8,
     "metadata": {},
     "output_type": "execute_result"
    }
   ],
   "source": [
    "gpt_post.head()"
   ]
  },
  {
   "cell_type": "code",
   "execution_count": 9,
   "id": "7d2ace04",
   "metadata": {},
   "outputs": [
    {
     "data": {
      "text/html": [
       "<div>\n",
       "<style scoped>\n",
       "    .dataframe tbody tr th:only-of-type {\n",
       "        vertical-align: middle;\n",
       "    }\n",
       "\n",
       "    .dataframe tbody tr th {\n",
       "        vertical-align: top;\n",
       "    }\n",
       "\n",
       "    .dataframe thead th {\n",
       "        text-align: right;\n",
       "    }\n",
       "</style>\n",
       "<table border=\"1\" class=\"dataframe\">\n",
       "  <thead>\n",
       "    <tr style=\"text-align: right;\">\n",
       "      <th></th>\n",
       "      <th>news_id</th>\n",
       "      <th>subreddit_id</th>\n",
       "      <th>date_generated</th>\n",
       "      <th>date_inserted</th>\n",
       "      <th>polarity</th>\n",
       "    </tr>\n",
       "  </thead>\n",
       "  <tbody>\n",
       "    <tr>\n",
       "      <th>0</th>\n",
       "      <td>6573d30484a37a3a395dd3651</td>\n",
       "      <td>1</td>\n",
       "      <td>2023-11-11</td>\n",
       "      <td>2023-12-11 07:46:51</td>\n",
       "      <td>0.000</td>\n",
       "    </tr>\n",
       "    <tr>\n",
       "      <th>1</th>\n",
       "      <td>6573d30484a37a3a395dd36510</td>\n",
       "      <td>1</td>\n",
       "      <td>2023-11-11</td>\n",
       "      <td>2023-12-11 07:46:51</td>\n",
       "      <td>0.050</td>\n",
       "    </tr>\n",
       "    <tr>\n",
       "      <th>2</th>\n",
       "      <td>6573d30484a37a3a395dd365100</td>\n",
       "      <td>1</td>\n",
       "      <td>2023-11-11</td>\n",
       "      <td>2023-12-11 07:46:51</td>\n",
       "      <td>0.187</td>\n",
       "    </tr>\n",
       "    <tr>\n",
       "      <th>3</th>\n",
       "      <td>6573d30484a37a3a395dd36511</td>\n",
       "      <td>1</td>\n",
       "      <td>2023-11-11</td>\n",
       "      <td>2023-12-11 07:46:51</td>\n",
       "      <td>0.200</td>\n",
       "    </tr>\n",
       "    <tr>\n",
       "      <th>4</th>\n",
       "      <td>6573d30484a37a3a395dd36512</td>\n",
       "      <td>1</td>\n",
       "      <td>2023-11-11</td>\n",
       "      <td>2023-12-11 07:46:51</td>\n",
       "      <td>0.000</td>\n",
       "    </tr>\n",
       "  </tbody>\n",
       "</table>\n",
       "</div>"
      ],
      "text/plain": [
       "                       news_id  subreddit_id date_generated  \\\n",
       "0    6573d30484a37a3a395dd3651             1     2023-11-11   \n",
       "1   6573d30484a37a3a395dd36510             1     2023-11-11   \n",
       "2  6573d30484a37a3a395dd365100             1     2023-11-11   \n",
       "3   6573d30484a37a3a395dd36511             1     2023-11-11   \n",
       "4   6573d30484a37a3a395dd36512             1     2023-11-11   \n",
       "\n",
       "         date_inserted  polarity  \n",
       "0  2023-12-11 07:46:51     0.000  \n",
       "1  2023-12-11 07:46:51     0.050  \n",
       "2  2023-12-11 07:46:51     0.187  \n",
       "3  2023-12-11 07:46:51     0.200  \n",
       "4  2023-12-11 07:46:51     0.000  "
      ]
     },
     "execution_count": 9,
     "metadata": {},
     "output_type": "execute_result"
    }
   ],
   "source": [
    "gpt_news.head()"
   ]
  },
  {
   "cell_type": "code",
   "execution_count": 10,
   "id": "f2e94fe9",
   "metadata": {},
   "outputs": [
    {
     "data": {
      "image/png": "[encoded data removed]",
      "text/plain": [
       "<Figure size 800x600 with 1 Axes>"
      ]
     },
     "metadata": {},
     "output_type": "display_data"
    }
   ],
   "source": [
    "# Create DataFrames from the two tables\n",
    "posts_polarity = pd.DataFrame({'date': gpt_post['date_generated'], 'polarity': gpt_post['polarity'], 'type': 'Posts'})\n",
    "news_polarity = pd.DataFrame({'date': gpt_news['date_generated'], 'polarity': gpt_news['polarity'], 'type': 'News'})\n",
    "\n",
    "# Combine the DataFrames\n",
    "polarity_combined = pd.concat([news_polarity, posts_polarity ])\n",
    "\n",
    "# Create a point plot\n",
    "plt.figure(figsize=(8, 6))\n",
    "news_color = '#a2d2ff'\n",
    "post_color = \"#ffafcc\"\n",
    "sns.pointplot(data=polarity_combined, x='date', y='polarity', hue='type', palette = [ post_color, news_color])\n",
    "\n",
    "\n",
    "# Improve the aesthetics\n",
    "plt.xticks(rotation=45)\n",
    "plt.title('Comparison of News and Reddit Post Polarity Over Time')\n",
    "plt.xlabel('Date')\n",
    "plt.ylabel('Polarity')\n",
    "plt.tight_layout()  # Adjust layout to fit the date labels\n",
    "\n",
    "# Show the plot\n",
    "plt.show()"
   ]
  },
  {
   "cell_type": "code",
   "execution_count": 13,
   "id": "11d95915",
   "metadata": {},
   "outputs": [
    {
     "data": {
      "text/html": [
       "<div>\n",
       "<style scoped>\n",
       "    .dataframe tbody tr th:only-of-type {\n",
       "        vertical-align: middle;\n",
       "    }\n",
       "\n",
       "    .dataframe tbody tr th {\n",
       "        vertical-align: top;\n",
       "    }\n",
       "\n",
       "    .dataframe thead th {\n",
       "        text-align: right;\n",
       "    }\n",
       "</style>\n",
       "<table border=\"1\" class=\"dataframe\">\n",
       "  <thead>\n",
       "    <tr style=\"text-align: right;\">\n",
       "      <th></th>\n",
       "      <th>news_id</th>\n",
       "      <th>subreddit_id</th>\n",
       "      <th>date_generated</th>\n",
       "      <th>date_inserted</th>\n",
       "      <th>polarity</th>\n",
       "    </tr>\n",
       "  </thead>\n",
       "  <tbody>\n",
       "    <tr>\n",
       "      <th>0</th>\n",
       "      <td>6573d30484a37a3a395dd3651</td>\n",
       "      <td>1</td>\n",
       "      <td>2023-11-11</td>\n",
       "      <td>2023-12-11 07:46:51</td>\n",
       "      <td>0.000</td>\n",
       "    </tr>\n",
       "    <tr>\n",
       "      <th>1</th>\n",
       "      <td>6573d30484a37a3a395dd36510</td>\n",
       "      <td>1</td>\n",
       "      <td>2023-11-11</td>\n",
       "      <td>2023-12-11 07:46:51</td>\n",
       "      <td>0.050</td>\n",
       "    </tr>\n",
       "    <tr>\n",
       "      <th>2</th>\n",
       "      <td>6573d30484a37a3a395dd365100</td>\n",
       "      <td>1</td>\n",
       "      <td>2023-11-11</td>\n",
       "      <td>2023-12-11 07:46:51</td>\n",
       "      <td>0.187</td>\n",
       "    </tr>\n",
       "    <tr>\n",
       "      <th>3</th>\n",
       "      <td>6573d30484a37a3a395dd36511</td>\n",
       "      <td>1</td>\n",
       "      <td>2023-11-11</td>\n",
       "      <td>2023-12-11 07:46:51</td>\n",
       "      <td>0.200</td>\n",
       "    </tr>\n",
       "    <tr>\n",
       "      <th>4</th>\n",
       "      <td>6573d30484a37a3a395dd36512</td>\n",
       "      <td>1</td>\n",
       "      <td>2023-11-11</td>\n",
       "      <td>2023-12-11 07:46:51</td>\n",
       "      <td>0.000</td>\n",
       "    </tr>\n",
       "    <tr>\n",
       "      <th>...</th>\n",
       "      <td>...</td>\n",
       "      <td>...</td>\n",
       "      <td>...</td>\n",
       "      <td>...</td>\n",
       "      <td>...</td>\n",
       "    </tr>\n",
       "    <tr>\n",
       "      <th>3145</th>\n",
       "      <td>6577b450da4479a392c0aa9b5</td>\n",
       "      <td>1</td>\n",
       "      <td>2023-12-11</td>\n",
       "      <td>2023-12-11 20:18:03</td>\n",
       "      <td>0.200</td>\n",
       "    </tr>\n",
       "    <tr>\n",
       "      <th>3146</th>\n",
       "      <td>6577b450da4479a392c0aa9b6</td>\n",
       "      <td>1</td>\n",
       "      <td>2023-12-11</td>\n",
       "      <td>2023-12-11 20:18:03</td>\n",
       "      <td>0.000</td>\n",
       "    </tr>\n",
       "    <tr>\n",
       "      <th>3147</th>\n",
       "      <td>6577b450da4479a392c0aa9b7</td>\n",
       "      <td>1</td>\n",
       "      <td>2023-12-11</td>\n",
       "      <td>2023-12-11 20:18:03</td>\n",
       "      <td>0.000</td>\n",
       "    </tr>\n",
       "    <tr>\n",
       "      <th>3148</th>\n",
       "      <td>6577b450da4479a392c0aa9b8</td>\n",
       "      <td>1</td>\n",
       "      <td>2023-12-11</td>\n",
       "      <td>2023-12-11 20:18:03</td>\n",
       "      <td>0.068</td>\n",
       "    </tr>\n",
       "    <tr>\n",
       "      <th>3149</th>\n",
       "      <td>6577b450da4479a392c0aa9b9</td>\n",
       "      <td>1</td>\n",
       "      <td>2023-12-11</td>\n",
       "      <td>2023-12-11 20:18:03</td>\n",
       "      <td>-0.200</td>\n",
       "    </tr>\n",
       "  </tbody>\n",
       "</table>\n",
       "<p>2829 rows × 5 columns</p>\n",
       "</div>"
      ],
      "text/plain": [
       "                          news_id  subreddit_id date_generated  \\\n",
       "0       6573d30484a37a3a395dd3651             1     2023-11-11   \n",
       "1      6573d30484a37a3a395dd36510             1     2023-11-11   \n",
       "2     6573d30484a37a3a395dd365100             1     2023-11-11   \n",
       "3      6573d30484a37a3a395dd36511             1     2023-11-11   \n",
       "4      6573d30484a37a3a395dd36512             1     2023-11-11   \n",
       "...                           ...           ...            ...   \n",
       "3145    6577b450da4479a392c0aa9b5             1     2023-12-11   \n",
       "3146    6577b450da4479a392c0aa9b6             1     2023-12-11   \n",
       "3147    6577b450da4479a392c0aa9b7             1     2023-12-11   \n",
       "3148    6577b450da4479a392c0aa9b8             1     2023-12-11   \n",
       "3149    6577b450da4479a392c0aa9b9             1     2023-12-11   \n",
       "\n",
       "            date_inserted  polarity  \n",
       "0     2023-12-11 07:46:51     0.000  \n",
       "1     2023-12-11 07:46:51     0.050  \n",
       "2     2023-12-11 07:46:51     0.187  \n",
       "3     2023-12-11 07:46:51     0.200  \n",
       "4     2023-12-11 07:46:51     0.000  \n",
       "...                   ...       ...  \n",
       "3145  2023-12-11 20:18:03     0.200  \n",
       "3146  2023-12-11 20:18:03     0.000  \n",
       "3147  2023-12-11 20:18:03     0.000  \n",
       "3148  2023-12-11 20:18:03     0.068  \n",
       "3149  2023-12-11 20:18:03    -0.200  \n",
       "\n",
       "[2829 rows x 5 columns]"
      ]
     },
     "execution_count": 13,
     "metadata": {},
     "output_type": "execute_result"
    }
   ],
   "source": [
    "gpt_news"
   ]
  },
  {
   "cell_type": "code",
   "execution_count": null,
   "id": "cd53f563",
   "metadata": {},
   "outputs": [],
   "source": []
  },
  {
   "cell_type": "code",
   "execution_count": 16,
   "id": "5c7f0c35",
   "metadata": {},
   "outputs": [
    {
     "data": {
      "text/html": [
       "<div>\n",
       "<style scoped>\n",
       "    .dataframe tbody tr th:only-of-type {\n",
       "        vertical-align: middle;\n",
       "    }\n",
       "\n",
       "    .dataframe tbody tr th {\n",
       "        vertical-align: top;\n",
       "    }\n",
       "\n",
       "    .dataframe thead th {\n",
       "        text-align: right;\n",
       "    }\n",
       "</style>\n",
       "<table border=\"1\" class=\"dataframe\">\n",
       "  <thead>\n",
       "    <tr style=\"text-align: right;\">\n",
       "      <th></th>\n",
       "      <th>date_generated</th>\n",
       "      <th>polarity</th>\n",
       "    </tr>\n",
       "  </thead>\n",
       "  <tbody>\n",
       "    <tr>\n",
       "      <th>0</th>\n",
       "      <td>2023-11-11</td>\n",
       "      <td>0.07215</td>\n",
       "    </tr>\n",
       "    <tr>\n",
       "      <th>1</th>\n",
       "      <td>2023-11-12</td>\n",
       "      <td>0.07215</td>\n",
       "    </tr>\n",
       "    <tr>\n",
       "      <th>2</th>\n",
       "      <td>2023-11-13</td>\n",
       "      <td>0.06653</td>\n",
       "    </tr>\n",
       "    <tr>\n",
       "      <th>3</th>\n",
       "      <td>2023-11-14</td>\n",
       "      <td>0.06553</td>\n",
       "    </tr>\n",
       "    <tr>\n",
       "      <th>4</th>\n",
       "      <td>2023-11-15</td>\n",
       "      <td>0.06253</td>\n",
       "    </tr>\n",
       "  </tbody>\n",
       "</table>\n",
       "</div>"
      ],
      "text/plain": [
       "  date_generated  polarity\n",
       "0     2023-11-11   0.07215\n",
       "1     2023-11-12   0.07215\n",
       "2     2023-11-13   0.06653\n",
       "3     2023-11-14   0.06553\n",
       "4     2023-11-15   0.06253"
      ]
     },
     "execution_count": 16,
     "metadata": {},
     "output_type": "execute_result"
    }
   ],
   "source": [
    "# get the average polarity of news of each date\n",
    "avg_news_per_day = gpt_news.groupby('date_generated').agg({'polarity': 'mean'}).reset_index()\n",
    "avg_news_per_day.head()"
   ]
  },
  {
   "cell_type": "code",
   "execution_count": 38,
   "id": "9068f915",
   "metadata": {},
   "outputs": [
    {
     "data": {
      "text/html": [
       "<div>\n",
       "<style scoped>\n",
       "    .dataframe tbody tr th:only-of-type {\n",
       "        vertical-align: middle;\n",
       "    }\n",
       "\n",
       "    .dataframe tbody tr th {\n",
       "        vertical-align: top;\n",
       "    }\n",
       "\n",
       "    .dataframe thead th {\n",
       "        text-align: right;\n",
       "    }\n",
       "</style>\n",
       "<table border=\"1\" class=\"dataframe\">\n",
       "  <thead>\n",
       "    <tr style=\"text-align: right;\">\n",
       "      <th></th>\n",
       "      <th>post_id</th>\n",
       "      <th>date_generated</th>\n",
       "      <th>title</th>\n",
       "      <th>subjectivity_post</th>\n",
       "      <th>avg_polarity_news</th>\n",
       "      <th>polarity_post</th>\n",
       "      <th>post_sentiment_class</th>\n",
       "    </tr>\n",
       "  </thead>\n",
       "  <tbody>\n",
       "    <tr>\n",
       "      <th>0</th>\n",
       "      <td>655026de54a7246a1e6f98371</td>\n",
       "      <td>2023-11-11</td>\n",
       "      <td>Join Talkie's AI Character Contest! 🎨 Prize Po...</td>\n",
       "      <td>0.000</td>\n",
       "      <td>0.07215</td>\n",
       "      <td>0.000</td>\n",
       "      <td>neutral</td>\n",
       "    </tr>\n",
       "    <tr>\n",
       "      <th>1</th>\n",
       "      <td>655026de54a7246a1e6f983710</td>\n",
       "      <td>2023-11-11</td>\n",
       "      <td>‘Motion Brush’ is new Runway Feature</td>\n",
       "      <td>0.455</td>\n",
       "      <td>0.07215</td>\n",
       "      <td>0.136</td>\n",
       "      <td>positive</td>\n",
       "    </tr>\n",
       "    <tr>\n",
       "      <th>2</th>\n",
       "      <td>655026de54a7246a1e6f98372</td>\n",
       "      <td>2023-11-11</td>\n",
       "      <td>Weekly Self-Promotional Mega Thread 7, 06.11.2...</td>\n",
       "      <td>0.000</td>\n",
       "      <td>0.07215</td>\n",
       "      <td>0.000</td>\n",
       "      <td>neutral</td>\n",
       "    </tr>\n",
       "    <tr>\n",
       "      <th>3</th>\n",
       "      <td>655026de54a7246a1e6f98373</td>\n",
       "      <td>2023-11-11</td>\n",
       "      <td>Literal movie titles</td>\n",
       "      <td>0.000</td>\n",
       "      <td>0.07215</td>\n",
       "      <td>0.000</td>\n",
       "      <td>neutral</td>\n",
       "    </tr>\n",
       "    <tr>\n",
       "      <th>4</th>\n",
       "      <td>655026de54a7246a1e6f98374</td>\n",
       "      <td>2023-11-11</td>\n",
       "      <td>Did this hammered in the back of an Uber. I'm ...</td>\n",
       "      <td>0.300</td>\n",
       "      <td>0.07215</td>\n",
       "      <td>0.350</td>\n",
       "      <td>positive</td>\n",
       "    </tr>\n",
       "  </tbody>\n",
       "</table>\n",
       "</div>"
      ],
      "text/plain": [
       "                      post_id date_generated  \\\n",
       "0   655026de54a7246a1e6f98371     2023-11-11   \n",
       "1  655026de54a7246a1e6f983710     2023-11-11   \n",
       "2   655026de54a7246a1e6f98372     2023-11-11   \n",
       "3   655026de54a7246a1e6f98373     2023-11-11   \n",
       "4   655026de54a7246a1e6f98374     2023-11-11   \n",
       "\n",
       "                                               title  subjectivity_post  \\\n",
       "0  Join Talkie's AI Character Contest! 🎨 Prize Po...              0.000   \n",
       "1               ‘Motion Brush’ is new Runway Feature              0.455   \n",
       "2  Weekly Self-Promotional Mega Thread 7, 06.11.2...              0.000   \n",
       "3                               Literal movie titles              0.000   \n",
       "4  Did this hammered in the back of an Uber. I'm ...              0.300   \n",
       "\n",
       "   avg_polarity_news  polarity_post post_sentiment_class  \n",
       "0            0.07215          0.000              neutral  \n",
       "1            0.07215          0.136             positive  \n",
       "2            0.07215          0.000              neutral  \n",
       "3            0.07215          0.000              neutral  \n",
       "4            0.07215          0.350             positive  "
      ]
     },
     "execution_count": 38,
     "metadata": {},
     "output_type": "execute_result"
    }
   ],
   "source": [
    "# load dataset for sentiment analysis\n",
    "gpt_sentiment = gpt_post.merge(avg_news_per_day, on = 'date_generated', how = 'left')[['post_id', 'date_generated', 'title', 'subjectivity', 'polarity_y', 'polarity_x']]\n",
    "gpt_sentiment.rename(columns = {'subjectivity':'subjectivity_post','polarity_y':'avg_polarity_news', 'polarity_x':'polarity_post'}, inplace = True)\n",
    "gpt_sentiment['post_sentiment_class'] = np.where(\n",
    "    (gpt_sentiment['polarity_post'] > 0.5) & (gpt_sentiment['polarity_post'] <= 1), 'very positive',\n",
    "    np.where(\n",
    "        (gpt_sentiment['polarity_post'] <= 0.5) & (gpt_sentiment['polarity_post'] > 0), 'positive',\n",
    "        np.where(\n",
    "            gpt_sentiment['polarity_post'] == 0, 'neutral',\n",
    "            np.where(\n",
    "                (gpt_sentiment['polarity_post'] >= -0.5) & (gpt_sentiment['polarity_post'] < 0), 'negative', 'very negative'\n",
    "            )\n",
    "        )\n",
    "    )\n",
    ")\n",
    "\n",
    "# output first five rows\n",
    "gpt_sentiment.head()"
   ]
  },
  {
   "cell_type": "code",
   "execution_count": 39,
   "id": "55c7b0c9",
   "metadata": {},
   "outputs": [
    {
     "data": {
      "text/plain": [
       "post_id                 0\n",
       "date_generated          0\n",
       "title                   0\n",
       "subjectivity_post       0\n",
       "avg_polarity_news       0\n",
       "polarity_post           0\n",
       "post_sentiment_class    0\n",
       "dtype: int64"
      ]
     },
     "execution_count": 39,
     "metadata": {},
     "output_type": "execute_result"
    }
   ],
   "source": [
    "# check for missing data\n",
    "gpt_sentiment.isnull().sum()"
   ]
  },
  {
   "cell_type": "code",
   "execution_count": 52,
   "id": "eb0914c6",
   "metadata": {},
   "outputs": [
    {
     "data": {
      "text/plain": [
       "(678, 7)"
      ]
     },
     "execution_count": 52,
     "metadata": {},
     "output_type": "execute_result"
    }
   ],
   "source": [
    "# dimensionality of the data\n",
    "gpt_sentiment.shape"
   ]
  },
  {
   "cell_type": "markdown",
   "id": "bd1e7209",
   "metadata": {},
   "source": [
    "## Exploratory Data Analysis"
   ]
  },
  {
   "cell_type": "markdown",
   "id": "750f0531",
   "metadata": {},
   "source": [
    "### Plotting the distribution of title lengths"
   ]
  },
  {
   "cell_type": "code",
   "execution_count": 54,
   "id": "1b0b4397",
   "metadata": {},
   "outputs": [
    {
     "data": {
      "image/png": "[encoded data removed]",
      "text/plain": [
       "<Figure size 640x480 with 1 Axes>"
      ]
     },
     "metadata": {},
     "output_type": "display_data"
    }
   ],
   "source": [
    "# Calculate the length of each title and store it in a new column\n",
    "gpt_sentiment['title_length'] = gpt_sentiment['title'].apply(len)\n",
    "\n",
    "# Set the aesthetic style of the plots\n",
    "sns.set_style('whitegrid')\n",
    "\n",
    "# Create the box plot\n",
    "sns.boxplot(y='title_length', data=gpt_sentiment)\n",
    "\n",
    "# Add title and labels (optional)\n",
    "plt.title('Box plot of Title Lengths in GPT Sentiment')\n",
    "plt.ylabel('Length of Title')\n",
    "\n",
    "# Display the plot\n",
    "plt.show()\n"
   ]
  },
  {
   "cell_type": "markdown",
   "id": "c0d03531",
   "metadata": {},
   "source": [
    "### Plotting the distribution of sentiment class"
   ]
  },
  {
   "cell_type": "code",
   "execution_count": 59,
   "id": "b60337c6",
   "metadata": {},
   "outputs": [
    {
     "data": {
      "image/png": "[encoded data removed]",
      "text/plain": [
       "<Figure size 640x480 with 1 Axes>"
      ]
     },
     "metadata": {},
     "output_type": "display_data"
    }
   ],
   "source": [
    "# distribution of each post sentiment class\n",
    "\n",
    "# Set the aesthetic style of the plots\n",
    "sns.set_style('whitegrid')\n",
    "\n",
    "color_palette = {\n",
    "    \"very negative\": \"#d32e05\",  \n",
    "    \"negative\": \"#f87a63\",      \n",
    "    \"neutral\": \"#f2e8cf\",      \n",
    "    \"positive\": \"#bcd379\",     \n",
    "    \"very positive\": \"#326e2f\"  \n",
    "}\n",
    "\n",
    "# Create the bar plot\n",
    "sns.countplot(x='post_sentiment_class', data=gpt_sentiment, palette=color_palette,\n",
    "              order=['very negative', 'negative', 'neutral', 'positive', 'very positive'])\n",
    "\n",
    "# Add title and labels (optional)\n",
    "plt.title('Distribution of Post Sentiment Classes')\n",
    "plt.xlabel('Sentiment Class')\n",
    "plt.ylabel('Count')\n",
    "\n",
    "# Display the plot\n",
    "plt.show()"
   ]
  },
  {
   "cell_type": "code",
   "execution_count": 76,
   "id": "4a89f3d3",
   "metadata": {},
   "outputs": [
    {
     "data": {
      "text/html": [
       "<div>\n",
       "<style scoped>\n",
       "    .dataframe tbody tr th:only-of-type {\n",
       "        vertical-align: middle;\n",
       "    }\n",
       "\n",
       "    .dataframe tbody tr th {\n",
       "        vertical-align: top;\n",
       "    }\n",
       "\n",
       "    .dataframe thead th {\n",
       "        text-align: right;\n",
       "    }\n",
       "</style>\n",
       "<table border=\"1\" class=\"dataframe\">\n",
       "  <thead>\n",
       "    <tr style=\"text-align: right;\">\n",
       "      <th></th>\n",
       "      <th>post_id</th>\n",
       "      <th>date_generated</th>\n",
       "      <th>title</th>\n",
       "      <th>title_length</th>\n",
       "      <th>subjectivity_post</th>\n",
       "      <th>avg_polarity_news</th>\n",
       "      <th>polarity_post</th>\n",
       "      <th>post_sentiment_class</th>\n",
       "    </tr>\n",
       "  </thead>\n",
       "  <tbody>\n",
       "    <tr>\n",
       "      <th>0</th>\n",
       "      <td>655026de54a7246a1e6f98371</td>\n",
       "      <td>2023-11-11</td>\n",
       "      <td>Join Talkie's AI Character Contest! 🎨 Prize Po...</td>\n",
       "      <td>83</td>\n",
       "      <td>0.000</td>\n",
       "      <td>0.07215</td>\n",
       "      <td>0.000</td>\n",
       "      <td>neutral</td>\n",
       "    </tr>\n",
       "    <tr>\n",
       "      <th>1</th>\n",
       "      <td>655026de54a7246a1e6f983710</td>\n",
       "      <td>2023-11-11</td>\n",
       "      <td>‘Motion Brush’ is new Runway Feature</td>\n",
       "      <td>36</td>\n",
       "      <td>0.455</td>\n",
       "      <td>0.07215</td>\n",
       "      <td>0.136</td>\n",
       "      <td>positive</td>\n",
       "    </tr>\n",
       "    <tr>\n",
       "      <th>2</th>\n",
       "      <td>655026de54a7246a1e6f98372</td>\n",
       "      <td>2023-11-11</td>\n",
       "      <td>Weekly Self-Promotional Mega Thread 7, 06.11.2...</td>\n",
       "      <td>62</td>\n",
       "      <td>0.000</td>\n",
       "      <td>0.07215</td>\n",
       "      <td>0.000</td>\n",
       "      <td>neutral</td>\n",
       "    </tr>\n",
       "    <tr>\n",
       "      <th>3</th>\n",
       "      <td>655026de54a7246a1e6f98373</td>\n",
       "      <td>2023-11-11</td>\n",
       "      <td>Literal movie titles</td>\n",
       "      <td>20</td>\n",
       "      <td>0.000</td>\n",
       "      <td>0.07215</td>\n",
       "      <td>0.000</td>\n",
       "      <td>neutral</td>\n",
       "    </tr>\n",
       "    <tr>\n",
       "      <th>4</th>\n",
       "      <td>655026de54a7246a1e6f98374</td>\n",
       "      <td>2023-11-11</td>\n",
       "      <td>Did this hammered in the back of an Uber. I'm ...</td>\n",
       "      <td>78</td>\n",
       "      <td>0.300</td>\n",
       "      <td>0.07215</td>\n",
       "      <td>0.350</td>\n",
       "      <td>positive</td>\n",
       "    </tr>\n",
       "  </tbody>\n",
       "</table>\n",
       "</div>"
      ],
      "text/plain": [
       "                      post_id date_generated  \\\n",
       "0   655026de54a7246a1e6f98371     2023-11-11   \n",
       "1  655026de54a7246a1e6f983710     2023-11-11   \n",
       "2   655026de54a7246a1e6f98372     2023-11-11   \n",
       "3   655026de54a7246a1e6f98373     2023-11-11   \n",
       "4   655026de54a7246a1e6f98374     2023-11-11   \n",
       "\n",
       "                                               title  title_length  \\\n",
       "0  Join Talkie's AI Character Contest! 🎨 Prize Po...            83   \n",
       "1               ‘Motion Brush’ is new Runway Feature            36   \n",
       "2  Weekly Self-Promotional Mega Thread 7, 06.11.2...            62   \n",
       "3                               Literal movie titles            20   \n",
       "4  Did this hammered in the back of an Uber. I'm ...            78   \n",
       "\n",
       "   subjectivity_post  avg_polarity_news  polarity_post post_sentiment_class  \n",
       "0              0.000            0.07215          0.000              neutral  \n",
       "1              0.455            0.07215          0.136             positive  \n",
       "2              0.000            0.07215          0.000              neutral  \n",
       "3              0.000            0.07215          0.000              neutral  \n",
       "4              0.300            0.07215          0.350             positive  "
      ]
     },
     "execution_count": 76,
     "metadata": {},
     "output_type": "execute_result"
    }
   ],
   "source": [
    "gpt_sentiment = gpt_sentiment[['post_id', 'date_generated', 'title', 'title_length', 'subjectivity_post', 'avg_polarity_news', 'polarity_post', 'post_sentiment_class' ]]\n",
    "gpt_sentiment.head()"
   ]
  },
  {
   "cell_type": "markdown",
   "id": "5e69da1b",
   "metadata": {},
   "source": [
    "### Plotting the Pie chart of the percentage of each sentiment class"
   ]
  },
  {
   "cell_type": "code",
   "execution_count": 70,
   "id": "e0d0d84d",
   "metadata": {},
   "outputs": [
    {
     "data": {
      "application/vnd.plotly.v1+json": {
       "config": {
        "plotlyServerURL": "https://plot.ly"
       },
       "data": [
        {
         "customdata": [
          [
           "neutral"
          ],
          [
           "positive"
          ],
          [
           "neutral"
          ],
          [
           "neutral"
          ],
          [
           "positive"
          ],
          [
           "very positive"
          ],
          [
           "positive"
          ],
          [
           "neutral"
          ],
          [
           "neutral"
          ],
          [
           "positive"
          ],
          [
           "neutral"
          ],
          [
           "neutral"
          ],
          [
           "neutral"
          ],
          [
           "positive"
          ],
          [
           "negative"
          ],
          [
           "neutral"
          ],
          [
           "positive"
          ],
          [
           "positive"
          ],
          [
           "neutral"
          ],
          [
           "positive"
          ],
          [
           "neutral"
          ],
          [
           "neutral"
          ],
          [
           "neutral"
          ],
          [
           "neutral"
          ],
          [
           "positive"
          ],
          [
           "very positive"
          ],
          [
           "negative"
          ],
          [
           "neutral"
          ],
          [
           "positive"
          ],
          [
           "neutral"
          ],
          [
           "negative"
          ],
          [
           "neutral"
          ],
          [
           "positive"
          ],
          [
           "neutral"
          ],
          [
           "positive"
          ],
          [
           "positive"
          ],
          [
           "positive"
          ],
          [
           "positive"
          ],
          [
           "neutral"
          ],
          [
           "positive"
          ],
          [
           "negative"
          ],
          [
           "neutral"
          ],
          [
           "neutral"
          ],
          [
           "neutral"
          ],
          [
           "neutral"
          ],
          [
           "neutral"
          ],
          [
           "neutral"
          ],
          [
           "negative"
          ],
          [
           "neutral"
          ],
          [
           "neutral"
          ],
          [
           "neutral"
          ],
          [
           "very positive"
          ],
          [
           "neutral"
          ],
          [
           "positive"
          ],
          [
           "neutral"
          ],
          [
           "neutral"
          ],
          [
           "positive"
          ],
          [
           "positive"
          ],
          [
           "neutral"
          ],
          [
           "neutral"
          ],
          [
           "neutral"
          ],
          [
           "positive"
          ],
          [
           "negative"
          ],
          [
           "neutral"
          ],
          [
           "very positive"
          ],
          [
           "very positive"
          ],
          [
           "neutral"
          ],
          [
           "neutral"
          ],
          [
           "neutral"
          ],
          [
           "very positive"
          ],
          [
           "neutral"
          ],
          [
           "very positive"
          ],
          [
           "neutral"
          ],
          [
           "neutral"
          ],
          [
           "positive"
          ],
          [
           "positive"
          ],
          [
           "neutral"
          ],
          [
           "positive"
          ],
          [
           "neutral"
          ],
          [
           "negative"
          ],
          [
           "neutral"
          ],
          [
           "neutral"
          ],
          [
           "positive"
          ],
          [
           "negative"
          ],
          [
           "neutral"
          ],
          [
           "positive"
          ],
          [
           "positive"
          ],
          [
           "neutral"
          ],
          [
           "positive"
          ],
          [
           "neutral"
          ],
          [
           "negative"
          ],
          [
           "neutral"
          ],
          [
           "neutral"
          ],
          [
           "neutral"
          ],
          [
           "negative"
          ],
          [
           "neutral"
          ],
          [
           "negative"
          ],
          [
           "positive"
          ],
          [
           "negative"
          ],
          [
           "neutral"
          ],
          [
           "positive"
          ],
          [
           "neutral"
          ],
          [
           "positive"
          ],
          [
           "neutral"
          ],
          [
           "neutral"
          ],
          [
           "neutral"
          ],
          [
           "neutral"
          ],
          [
           "positive"
          ],
          [
           "neutral"
          ],
          [
           "negative"
          ],
          [
           "very positive"
          ],
          [
           "positive"
          ],
          [
           "positive"
          ],
          [
           "positive"
          ],
          [
           "neutral"
          ],
          [
           "neutral"
          ],
          [
           "negative"
          ],
          [
           "neutral"
          ],
          [
           "negative"
          ],
          [
           "neutral"
          ],
          [
           "very negative"
          ],
          [
           "neutral"
          ],
          [
           "positive"
          ],
          [
           "neutral"
          ],
          [
           "negative"
          ],
          [
           "very positive"
          ],
          [
           "neutral"
          ],
          [
           "neutral"
          ],
          [
           "neutral"
          ],
          [
           "positive"
          ],
          [
           "neutral"
          ],
          [
           "positive"
          ],
          [
           "very positive"
          ],
          [
           "neutral"
          ],
          [
           "negative"
          ],
          [
           "neutral"
          ],
          [
           "neutral"
          ],
          [
           "positive"
          ],
          [
           "positive"
          ],
          [
           "neutral"
          ],
          [
           "positive"
          ],
          [
           "negative"
          ],
          [
           "neutral"
          ],
          [
           "positive"
          ],
          [
           "negative"
          ],
          [
           "negative"
          ],
          [
           "positive"
          ],
          [
           "neutral"
          ],
          [
           "negative"
          ],
          [
           "positive"
          ],
          [
           "positive"
          ],
          [
           "positive"
          ],
          [
           "neutral"
          ],
          [
           "neutral"
          ],
          [
           "positive"
          ],
          [
           "positive"
          ],
          [
           "neutral"
          ],
          [
           "neutral"
          ],
          [
           "neutral"
          ],
          [
           "neutral"
          ],
          [
           "neutral"
          ],
          [
           "very positive"
          ],
          [
           "positive"
          ],
          [
           "very positive"
          ],
          [
           "positive"
          ],
          [
           "neutral"
          ],
          [
           "neutral"
          ],
          [
           "neutral"
          ],
          [
           "neutral"
          ],
          [
           "neutral"
          ],
          [
           "neutral"
          ],
          [
           "positive"
          ],
          [
           "positive"
          ],
          [
           "neutral"
          ],
          [
           "negative"
          ],
          [
           "neutral"
          ],
          [
           "very negative"
          ],
          [
           "neutral"
          ],
          [
           "neutral"
          ],
          [
           "positive"
          ],
          [
           "neutral"
          ],
          [
           "negative"
          ],
          [
           "neutral"
          ],
          [
           "very positive"
          ],
          [
           "neutral"
          ],
          [
           "positive"
          ],
          [
           "neutral"
          ],
          [
           "positive"
          ],
          [
           "neutral"
          ],
          [
           "positive"
          ],
          [
           "neutral"
          ],
          [
           "positive"
          ],
          [
           "neutral"
          ],
          [
           "neutral"
          ],
          [
           "neutral"
          ],
          [
           "positive"
          ],
          [
           "neutral"
          ],
          [
           "negative"
          ],
          [
           "neutral"
          ],
          [
           "negative"
          ],
          [
           "neutral"
          ],
          [
           "neutral"
          ],
          [
           "positive"
          ],
          [
           "very negative"
          ],
          [
           "neutral"
          ],
          [
           "neutral"
          ],
          [
           "neutral"
          ],
          [
           "positive"
          ],
          [
           "positive"
          ],
          [
           "negative"
          ],
          [
           "positive"
          ],
          [
           "neutral"
          ],
          [
           "neutral"
          ],
          [
           "neutral"
          ],
          [
           "negative"
          ],
          [
           "negative"
          ],
          [
           "positive"
          ],
          [
           "neutral"
          ],
          [
           "positive"
          ],
          [
           "negative"
          ],
          [
           "neutral"
          ],
          [
           "positive"
          ],
          [
           "positive"
          ],
          [
           "positive"
          ],
          [
           "neutral"
          ],
          [
           "neutral"
          ],
          [
           "neutral"
          ],
          [
           "neutral"
          ],
          [
           "neutral"
          ],
          [
           "neutral"
          ],
          [
           "positive"
          ],
          [
           "negative"
          ],
          [
           "neutral"
          ],
          [
           "positive"
          ],
          [
           "positive"
          ],
          [
           "negative"
          ],
          [
           "neutral"
          ],
          [
           "neutral"
          ],
          [
           "negative"
          ],
          [
           "negative"
          ],
          [
           "neutral"
          ],
          [
           "neutral"
          ],
          [
           "neutral"
          ],
          [
           "positive"
          ],
          [
           "neutral"
          ],
          [
           "neutral"
          ],
          [
           "neutral"
          ],
          [
           "very positive"
          ],
          [
           "neutral"
          ],
          [
           "neutral"
          ],
          [
           "positive"
          ],
          [
           "neutral"
          ],
          [
           "positive"
          ],
          [
           "negative"
          ],
          [
           "very positive"
          ],
          [
           "neutral"
          ],
          [
           "negative"
          ],
          [
           "positive"
          ],
          [
           "neutral"
          ],
          [
           "positive"
          ],
          [
           "positive"
          ],
          [
           "neutral"
          ],
          [
           "neutral"
          ],
          [
           "neutral"
          ],
          [
           "positive"
          ],
          [
           "neutral"
          ],
          [
           "negative"
          ],
          [
           "positive"
          ],
          [
           "neutral"
          ],
          [
           "neutral"
          ],
          [
           "neutral"
          ],
          [
           "neutral"
          ],
          [
           "neutral"
          ],
          [
           "neutral"
          ],
          [
           "neutral"
          ],
          [
           "positive"
          ],
          [
           "positive"
          ],
          [
           "positive"
          ],
          [
           "negative"
          ],
          [
           "negative"
          ],
          [
           "positive"
          ],
          [
           "neutral"
          ],
          [
           "neutral"
          ],
          [
           "neutral"
          ],
          [
           "neutral"
          ],
          [
           "positive"
          ],
          [
           "negative"
          ],
          [
           "positive"
          ],
          [
           "positive"
          ],
          [
           "neutral"
          ],
          [
           "neutral"
          ],
          [
           "very negative"
          ],
          [
           "negative"
          ],
          [
           "neutral"
          ],
          [
           "negative"
          ],
          [
           "positive"
          ],
          [
           "positive"
          ],
          [
           "neutral"
          ],
          [
           "negative"
          ],
          [
           "positive"
          ],
          [
           "negative"
          ],
          [
           "neutral"
          ],
          [
           "positive"
          ],
          [
           "neutral"
          ],
          [
           "neutral"
          ],
          [
           "neutral"
          ],
          [
           "positive"
          ],
          [
           "very positive"
          ],
          [
           "positive"
          ],
          [
           "positive"
          ],
          [
           "positive"
          ],
          [
           "negative"
          ],
          [
           "negative"
          ],
          [
           "positive"
          ],
          [
           "negative"
          ],
          [
           "positive"
          ],
          [
           "neutral"
          ],
          [
           "positive"
          ],
          [
           "positive"
          ],
          [
           "neutral"
          ],
          [
           "neutral"
          ],
          [
           "negative"
          ],
          [
           "neutral"
          ],
          [
           "neutral"
          ],
          [
           "neutral"
          ],
          [
           "neutral"
          ],
          [
           "neutral"
          ],
          [
           "negative"
          ],
          [
           "positive"
          ],
          [
           "neutral"
          ],
          [
           "neutral"
          ],
          [
           "positive"
          ],
          [
           "positive"
          ],
          [
           "neutral"
          ],
          [
           "neutral"
          ],
          [
           "neutral"
          ],
          [
           "neutral"
          ],
          [
           "positive"
          ],
          [
           "positive"
          ],
          [
           "negative"
          ],
          [
           "neutral"
          ],
          [
           "neutral"
          ],
          [
           "positive"
          ],
          [
           "neutral"
          ],
          [
           "negative"
          ],
          [
           "neutral"
          ],
          [
           "positive"
          ],
          [
           "positive"
          ],
          [
           "positive"
          ],
          [
           "neutral"
          ],
          [
           "neutral"
          ],
          [
           "positive"
          ],
          [
           "neutral"
          ],
          [
           "positive"
          ],
          [
           "positive"
          ],
          [
           "negative"
          ],
          [
           "neutral"
          ],
          [
           "neutral"
          ],
          [
           "neutral"
          ],
          [
           "positive"
          ],
          [
           "neutral"
          ],
          [
           "neutral"
          ],
          [
           "neutral"
          ],
          [
           "positive"
          ],
          [
           "positive"
          ],
          [
           "positive"
          ],
          [
           "neutral"
          ],
          [
           "neutral"
          ],
          [
           "neutral"
          ],
          [
           "neutral"
          ],
          [
           "very negative"
          ],
          [
           "negative"
          ],
          [
           "negative"
          ],
          [
           "positive"
          ],
          [
           "neutral"
          ],
          [
           "very positive"
          ],
          [
           "positive"
          ],
          [
           "neutral"
          ],
          [
           "neutral"
          ],
          [
           "neutral"
          ],
          [
           "neutral"
          ],
          [
           "neutral"
          ],
          [
           "neutral"
          ],
          [
           "neutral"
          ],
          [
           "positive"
          ],
          [
           "positive"
          ],
          [
           "neutral"
          ],
          [
           "neutral"
          ],
          [
           "negative"
          ],
          [
           "neutral"
          ],
          [
           "negative"
          ],
          [
           "positive"
          ],
          [
           "neutral"
          ],
          [
           "positive"
          ],
          [
           "neutral"
          ],
          [
           "neutral"
          ],
          [
           "neutral"
          ],
          [
           "neutral"
          ],
          [
           "neutral"
          ],
          [
           "positive"
          ],
          [
           "neutral"
          ],
          [
           "positive"
          ],
          [
           "neutral"
          ],
          [
           "neutral"
          ],
          [
           "very positive"
          ],
          [
           "positive"
          ],
          [
           "neutral"
          ],
          [
           "positive"
          ],
          [
           "negative"
          ],
          [
           "positive"
          ],
          [
           "very negative"
          ],
          [
           "very positive"
          ],
          [
           "neutral"
          ],
          [
           "neutral"
          ],
          [
           "negative"
          ],
          [
           "neutral"
          ],
          [
           "positive"
          ],
          [
           "neutral"
          ],
          [
           "neutral"
          ],
          [
           "neutral"
          ],
          [
           "neutral"
          ],
          [
           "neutral"
          ],
          [
           "neutral"
          ],
          [
           "neutral"
          ],
          [
           "neutral"
          ],
          [
           "neutral"
          ],
          [
           "neutral"
          ],
          [
           "negative"
          ],
          [
           "neutral"
          ],
          [
           "neutral"
          ],
          [
           "positive"
          ],
          [
           "neutral"
          ],
          [
           "negative"
          ],
          [
           "neutral"
          ],
          [
           "positive"
          ],
          [
           "positive"
          ],
          [
           "neutral"
          ],
          [
           "neutral"
          ],
          [
           "neutral"
          ],
          [
           "neutral"
          ],
          [
           "neutral"
          ],
          [
           "neutral"
          ],
          [
           "positive"
          ],
          [
           "positive"
          ],
          [
           "neutral"
          ],
          [
           "neutral"
          ],
          [
           "neutral"
          ],
          [
           "neutral"
          ],
          [
           "positive"
          ],
          [
           "positive"
          ],
          [
           "neutral"
          ],
          [
           "neutral"
          ],
          [
           "neutral"
          ],
          [
           "neutral"
          ],
          [
           "neutral"
          ],
          [
           "positive"
          ],
          [
           "neutral"
          ],
          [
           "positive"
          ],
          [
           "neutral"
          ],
          [
           "neutral"
          ],
          [
           "neutral"
          ],
          [
           "neutral"
          ],
          [
           "positive"
          ],
          [
           "neutral"
          ],
          [
           "neutral"
          ],
          [
           "negative"
          ],
          [
           "neutral"
          ],
          [
           "very negative"
          ],
          [
           "positive"
          ],
          [
           "negative"
          ],
          [
           "neutral"
          ],
          [
           "positive"
          ],
          [
           "neutral"
          ],
          [
           "very negative"
          ],
          [
           "neutral"
          ],
          [
           "negative"
          ],
          [
           "neutral"
          ],
          [
           "very positive"
          ],
          [
           "neutral"
          ],
          [
           "positive"
          ],
          [
           "positive"
          ],
          [
           "neutral"
          ],
          [
           "neutral"
          ],
          [
           "positive"
          ],
          [
           "neutral"
          ],
          [
           "neutral"
          ],
          [
           "neutral"
          ],
          [
           "neutral"
          ],
          [
           "positive"
          ],
          [
           "neutral"
          ],
          [
           "positive"
          ],
          [
           "positive"
          ],
          [
           "positive"
          ],
          [
           "neutral"
          ],
          [
           "neutral"
          ],
          [
           "neutral"
          ],
          [
           "neutral"
          ],
          [
           "neutral"
          ],
          [
           "neutral"
          ],
          [
           "negative"
          ],
          [
           "positive"
          ],
          [
           "positive"
          ],
          [
           "neutral"
          ],
          [
           "neutral"
          ],
          [
           "negative"
          ],
          [
           "neutral"
          ],
          [
           "negative"
          ],
          [
           "positive"
          ],
          [
           "neutral"
          ],
          [
           "positive"
          ],
          [
           "neutral"
          ],
          [
           "positive"
          ],
          [
           "neutral"
          ],
          [
           "neutral"
          ],
          [
           "neutral"
          ],
          [
           "positive"
          ],
          [
           "neutral"
          ],
          [
           "neutral"
          ],
          [
           "positive"
          ],
          [
           "positive"
          ],
          [
           "neutral"
          ],
          [
           "positive"
          ],
          [
           "neutral"
          ],
          [
           "neutral"
          ],
          [
           "neutral"
          ],
          [
           "positive"
          ],
          [
           "neutral"
          ],
          [
           "negative"
          ],
          [
           "positive"
          ],
          [
           "very positive"
          ],
          [
           "neutral"
          ],
          [
           "neutral"
          ],
          [
           "neutral"
          ],
          [
           "positive"
          ],
          [
           "negative"
          ],
          [
           "negative"
          ],
          [
           "negative"
          ],
          [
           "positive"
          ],
          [
           "neutral"
          ],
          [
           "very negative"
          ],
          [
           "neutral"
          ],
          [
           "neutral"
          ],
          [
           "very negative"
          ],
          [
           "neutral"
          ],
          [
           "negative"
          ],
          [
           "positive"
          ],
          [
           "positive"
          ],
          [
           "very positive"
          ],
          [
           "neutral"
          ],
          [
           "neutral"
          ],
          [
           "positive"
          ],
          [
           "positive"
          ],
          [
           "positive"
          ],
          [
           "neutral"
          ],
          [
           "neutral"
          ],
          [
           "neutral"
          ],
          [
           "neutral"
          ],
          [
           "positive"
          ],
          [
           "negative"
          ],
          [
           "negative"
          ],
          [
           "negative"
          ],
          [
           "neutral"
          ],
          [
           "neutral"
          ],
          [
           "neutral"
          ],
          [
           "positive"
          ],
          [
           "negative"
          ],
          [
           "neutral"
          ],
          [
           "neutral"
          ],
          [
           "very positive"
          ],
          [
           "neutral"
          ],
          [
           "neutral"
          ],
          [
           "positive"
          ],
          [
           "neutral"
          ],
          [
           "neutral"
          ],
          [
           "neutral"
          ],
          [
           "neutral"
          ],
          [
           "neutral"
          ],
          [
           "neutral"
          ],
          [
           "neutral"
          ],
          [
           "neutral"
          ],
          [
           "positive"
          ],
          [
           "negative"
          ],
          [
           "neutral"
          ],
          [
           "neutral"
          ],
          [
           "positive"
          ],
          [
           "negative"
          ],
          [
           "positive"
          ],
          [
           "neutral"
          ],
          [
           "positive"
          ],
          [
           "neutral"
          ],
          [
           "positive"
          ],
          [
           "neutral"
          ],
          [
           "neutral"
          ],
          [
           "neutral"
          ],
          [
           "neutral"
          ],
          [
           "neutral"
          ],
          [
           "positive"
          ],
          [
           "neutral"
          ],
          [
           "neutral"
          ],
          [
           "neutral"
          ],
          [
           "neutral"
          ],
          [
           "neutral"
          ],
          [
           "neutral"
          ],
          [
           "positive"
          ],
          [
           "positive"
          ],
          [
           "neutral"
          ],
          [
           "neutral"
          ],
          [
           "neutral"
          ],
          [
           "positive"
          ],
          [
           "positive"
          ],
          [
           "neutral"
          ],
          [
           "neutral"
          ],
          [
           "positive"
          ],
          [
           "positive"
          ],
          [
           "negative"
          ],
          [
           "negative"
          ],
          [
           "positive"
          ],
          [
           "positive"
          ],
          [
           "positive"
          ],
          [
           "negative"
          ],
          [
           "negative"
          ],
          [
           "negative"
          ],
          [
           "positive"
          ],
          [
           "positive"
          ],
          [
           "neutral"
          ],
          [
           "neutral"
          ],
          [
           "neutral"
          ],
          [
           "neutral"
          ],
          [
           "positive"
          ],
          [
           "neutral"
          ],
          [
           "negative"
          ],
          [
           "neutral"
          ],
          [
           "neutral"
          ],
          [
           "neutral"
          ],
          [
           "very positive"
          ],
          [
           "negative"
          ],
          [
           "positive"
          ],
          [
           "positive"
          ],
          [
           "neutral"
          ],
          [
           "positive"
          ],
          [
           "neutral"
          ],
          [
           "positive"
          ],
          [
           "neutral"
          ],
          [
           "positive"
          ],
          [
           "positive"
          ],
          [
           "positive"
          ],
          [
           "very positive"
          ],
          [
           "neutral"
          ],
          [
           "positive"
          ],
          [
           "negative"
          ],
          [
           "neutral"
          ],
          [
           "positive"
          ],
          [
           "positive"
          ],
          [
           "neutral"
          ],
          [
           "neutral"
          ],
          [
           "negative"
          ],
          [
           "positive"
          ],
          [
           "neutral"
          ],
          [
           "neutral"
          ],
          [
           "positive"
          ],
          [
           "positive"
          ],
          [
           "neutral"
          ],
          [
           "neutral"
          ],
          [
           "neutral"
          ],
          [
           "neutral"
          ],
          [
           "neutral"
          ],
          [
           "very negative"
          ],
          [
           "neutral"
          ],
          [
           "positive"
          ],
          [
           "neutral"
          ],
          [
           "positive"
          ],
          [
           "negative"
          ],
          [
           "neutral"
          ],
          [
           "neutral"
          ],
          [
           "neutral"
          ],
          [
           "very positive"
          ],
          [
           "positive"
          ],
          [
           "neutral"
          ]
         ],
         "domain": {
          "x": [
           0,
           1
          ],
          "y": [
           0,
           1
          ]
         },
         "hovertemplate": "post_sentiment_class=%{customdata[0]}<extra></extra>",
         "labels": [
          "neutral",
          "positive",
          "neutral",
          "neutral",
          "positive",
          "very positive",
          "positive",
          "neutral",
          "neutral",
          "positive",
          "neutral",
          "neutral",
          "neutral",
          "positive",
          "negative",
          "neutral",
          "positive",
          "positive",
          "neutral",
          "positive",
          "neutral",
          "neutral",
          "neutral",
          "neutral",
          "positive",
          "very positive",
          "negative",
          "neutral",
          "positive",
          "neutral",
          "negative",
          "neutral",
          "positive",
          "neutral",
          "positive",
          "positive",
          "positive",
          "positive",
          "neutral",
          "positive",
          "negative",
          "neutral",
          "neutral",
          "neutral",
          "neutral",
          "neutral",
          "neutral",
          "negative",
          "neutral",
          "neutral",
          "neutral",
          "very positive",
          "neutral",
          "positive",
          "neutral",
          "neutral",
          "positive",
          "positive",
          "neutral",
          "neutral",
          "neutral",
          "positive",
          "negative",
          "neutral",
          "very positive",
          "very positive",
          "neutral",
          "neutral",
          "neutral",
          "very positive",
          "neutral",
          "very positive",
          "neutral",
          "neutral",
          "positive",
          "positive",
          "neutral",
          "positive",
          "neutral",
          "negative",
          "neutral",
          "neutral",
          "positive",
          "negative",
          "neutral",
          "positive",
          "positive",
          "neutral",
          "positive",
          "neutral",
          "negative",
          "neutral",
          "neutral",
          "neutral",
          "negative",
          "neutral",
          "negative",
          "positive",
          "negative",
          "neutral",
          "positive",
          "neutral",
          "positive",
          "neutral",
          "neutral",
          "neutral",
          "neutral",
          "positive",
          "neutral",
          "negative",
          "very positive",
          "positive",
          "positive",
          "positive",
          "neutral",
          "neutral",
          "negative",
          "neutral",
          "negative",
          "neutral",
          "very negative",
          "neutral",
          "positive",
          "neutral",
          "negative",
          "very positive",
          "neutral",
          "neutral",
          "neutral",
          "positive",
          "neutral",
          "positive",
          "very positive",
          "neutral",
          "negative",
          "neutral",
          "neutral",
          "positive",
          "positive",
          "neutral",
          "positive",
          "negative",
          "neutral",
          "positive",
          "negative",
          "negative",
          "positive",
          "neutral",
          "negative",
          "positive",
          "positive",
          "positive",
          "neutral",
          "neutral",
          "positive",
          "positive",
          "neutral",
          "neutral",
          "neutral",
          "neutral",
          "neutral",
          "very positive",
          "positive",
          "very positive",
          "positive",
          "neutral",
          "neutral",
          "neutral",
          "neutral",
          "neutral",
          "neutral",
          "positive",
          "positive",
          "neutral",
          "negative",
          "neutral",
          "very negative",
          "neutral",
          "neutral",
          "positive",
          "neutral",
          "negative",
          "neutral",
          "very positive",
          "neutral",
          "positive",
          "neutral",
          "positive",
          "neutral",
          "positive",
          "neutral",
          "positive",
          "neutral",
          "neutral",
          "neutral",
          "positive",
          "neutral",
          "negative",
          "neutral",
          "negative",
          "neutral",
          "neutral",
          "positive",
          "very negative",
          "neutral",
          "neutral",
          "neutral",
          "positive",
          "positive",
          "negative",
          "positive",
          "neutral",
          "neutral",
          "neutral",
          "negative",
          "negative",
          "positive",
          "neutral",
          "positive",
          "negative",
          "neutral",
          "positive",
          "positive",
          "positive",
          "neutral",
          "neutral",
          "neutral",
          "neutral",
          "neutral",
          "neutral",
          "positive",
          "negative",
          "neutral",
          "positive",
          "positive",
          "negative",
          "neutral",
          "neutral",
          "negative",
          "negative",
          "neutral",
          "neutral",
          "neutral",
          "positive",
          "neutral",
          "neutral",
          "neutral",
          "very positive",
          "neutral",
          "neutral",
          "positive",
          "neutral",
          "positive",
          "negative",
          "very positive",
          "neutral",
          "negative",
          "positive",
          "neutral",
          "positive",
          "positive",
          "neutral",
          "neutral",
          "neutral",
          "positive",
          "neutral",
          "negative",
          "positive",
          "neutral",
          "neutral",
          "neutral",
          "neutral",
          "neutral",
          "neutral",
          "neutral",
          "positive",
          "positive",
          "positive",
          "negative",
          "negative",
          "positive",
          "neutral",
          "neutral",
          "neutral",
          "neutral",
          "positive",
          "negative",
          "positive",
          "positive",
          "neutral",
          "neutral",
          "very negative",
          "negative",
          "neutral",
          "negative",
          "positive",
          "positive",
          "neutral",
          "negative",
          "positive",
          "negative",
          "neutral",
          "positive",
          "neutral",
          "neutral",
          "neutral",
          "positive",
          "very positive",
          "positive",
          "positive",
          "positive",
          "negative",
          "negative",
          "positive",
          "negative",
          "positive",
          "neutral",
          "positive",
          "positive",
          "neutral",
          "neutral",
          "negative",
          "neutral",
          "neutral",
          "neutral",
          "neutral",
          "neutral",
          "negative",
          "positive",
          "neutral",
          "neutral",
          "positive",
          "positive",
          "neutral",
          "neutral",
          "neutral",
          "neutral",
          "positive",
          "positive",
          "negative",
          "neutral",
          "neutral",
          "positive",
          "neutral",
          "negative",
          "neutral",
          "positive",
          "positive",
          "positive",
          "neutral",
          "neutral",
          "positive",
          "neutral",
          "positive",
          "positive",
          "negative",
          "neutral",
          "neutral",
          "neutral",
          "positive",
          "neutral",
          "neutral",
          "neutral",
          "positive",
          "positive",
          "positive",
          "neutral",
          "neutral",
          "neutral",
          "neutral",
          "very negative",
          "negative",
          "negative",
          "positive",
          "neutral",
          "very positive",
          "positive",
          "neutral",
          "neutral",
          "neutral",
          "neutral",
          "neutral",
          "neutral",
          "neutral",
          "positive",
          "positive",
          "neutral",
          "neutral",
          "negative",
          "neutral",
          "negative",
          "positive",
          "neutral",
          "positive",
          "neutral",
          "neutral",
          "neutral",
          "neutral",
          "neutral",
          "positive",
          "neutral",
          "positive",
          "neutral",
          "neutral",
          "very positive",
          "positive",
          "neutral",
          "positive",
          "negative",
          "positive",
          "very negative",
          "very positive",
          "neutral",
          "neutral",
          "negative",
          "neutral",
          "positive",
          "neutral",
          "neutral",
          "neutral",
          "neutral",
          "neutral",
          "neutral",
          "neutral",
          "neutral",
          "neutral",
          "neutral",
          "negative",
          "neutral",
          "neutral",
          "positive",
          "neutral",
          "negative",
          "neutral",
          "positive",
          "positive",
          "neutral",
          "neutral",
          "neutral",
          "neutral",
          "neutral",
          "neutral",
          "positive",
          "positive",
          "neutral",
          "neutral",
          "neutral",
          "neutral",
          "positive",
          "positive",
          "neutral",
          "neutral",
          "neutral",
          "neutral",
          "neutral",
          "positive",
          "neutral",
          "positive",
          "neutral",
          "neutral",
          "neutral",
          "neutral",
          "positive",
          "neutral",
          "neutral",
          "negative",
          "neutral",
          "very negative",
          "positive",
          "negative",
          "neutral",
          "positive",
          "neutral",
          "very negative",
          "neutral",
          "negative",
          "neutral",
          "very positive",
          "neutral",
          "positive",
          "positive",
          "neutral",
          "neutral",
          "positive",
          "neutral",
          "neutral",
          "neutral",
          "neutral",
          "positive",
          "neutral",
          "positive",
          "positive",
          "positive",
          "neutral",
          "neutral",
          "neutral",
          "neutral",
          "neutral",
          "neutral",
          "negative",
          "positive",
          "positive",
          "neutral",
          "neutral",
          "negative",
          "neutral",
          "negative",
          "positive",
          "neutral",
          "positive",
          "neutral",
          "positive",
          "neutral",
          "neutral",
          "neutral",
          "positive",
          "neutral",
          "neutral",
          "positive",
          "positive",
          "neutral",
          "positive",
          "neutral",
          "neutral",
          "neutral",
          "positive",
          "neutral",
          "negative",
          "positive",
          "very positive",
          "neutral",
          "neutral",
          "neutral",
          "positive",
          "negative",
          "negative",
          "negative",
          "positive",
          "neutral",
          "very negative",
          "neutral",
          "neutral",
          "very negative",
          "neutral",
          "negative",
          "positive",
          "positive",
          "very positive",
          "neutral",
          "neutral",
          "positive",
          "positive",
          "positive",
          "neutral",
          "neutral",
          "neutral",
          "neutral",
          "positive",
          "negative",
          "negative",
          "negative",
          "neutral",
          "neutral",
          "neutral",
          "positive",
          "negative",
          "neutral",
          "neutral",
          "very positive",
          "neutral",
          "neutral",
          "positive",
          "neutral",
          "neutral",
          "neutral",
          "neutral",
          "neutral",
          "neutral",
          "neutral",
          "neutral",
          "positive",
          "negative",
          "neutral",
          "neutral",
          "positive",
          "negative",
          "positive",
          "neutral",
          "positive",
          "neutral",
          "positive",
          "neutral",
          "neutral",
          "neutral",
          "neutral",
          "neutral",
          "positive",
          "neutral",
          "neutral",
          "neutral",
          "neutral",
          "neutral",
          "neutral",
          "positive",
          "positive",
          "neutral",
          "neutral",
          "neutral",
          "positive",
          "positive",
          "neutral",
          "neutral",
          "positive",
          "positive",
          "negative",
          "negative",
          "positive",
          "positive",
          "positive",
          "negative",
          "negative",
          "negative",
          "positive",
          "positive",
          "neutral",
          "neutral",
          "neutral",
          "neutral",
          "positive",
          "neutral",
          "negative",
          "neutral",
          "neutral",
          "neutral",
          "very positive",
          "negative",
          "positive",
          "positive",
          "neutral",
          "positive",
          "neutral",
          "positive",
          "neutral",
          "positive",
          "positive",
          "positive",
          "very positive",
          "neutral",
          "positive",
          "negative",
          "neutral",
          "positive",
          "positive",
          "neutral",
          "neutral",
          "negative",
          "positive",
          "neutral",
          "neutral",
          "positive",
          "positive",
          "neutral",
          "neutral",
          "neutral",
          "neutral",
          "neutral",
          "very negative",
          "neutral",
          "positive",
          "neutral",
          "positive",
          "negative",
          "neutral",
          "neutral",
          "neutral",
          "very positive",
          "positive",
          "neutral"
         ],
         "legendgroup": "",
         "marker": {
          "colors": [
           "#f2e8cf",
           "#bcd379",
           "#f2e8cf",
           "#f2e8cf",
           "#bcd379",
           "#326e2f",
           "#bcd379",
           "#f2e8cf",
           "#f2e8cf",
           "#bcd379",
           "#f2e8cf",
           "#f2e8cf",
           "#f2e8cf",
           "#bcd379",
           "#f87a63",
           "#f2e8cf",
           "#bcd379",
           "#bcd379",
           "#f2e8cf",
           "#bcd379",
           "#f2e8cf",
           "#f2e8cf",
           "#f2e8cf",
           "#f2e8cf",
           "#bcd379",
           "#326e2f",
           "#f87a63",
           "#f2e8cf",
           "#bcd379",
           "#f2e8cf",
           "#f87a63",
           "#f2e8cf",
           "#bcd379",
           "#f2e8cf",
           "#bcd379",
           "#bcd379",
           "#bcd379",
           "#bcd379",
           "#f2e8cf",
           "#bcd379",
           "#f87a63",
           "#f2e8cf",
           "#f2e8cf",
           "#f2e8cf",
           "#f2e8cf",
           "#f2e8cf",
           "#f2e8cf",
           "#f87a63",
           "#f2e8cf",
           "#f2e8cf",
           "#f2e8cf",
           "#326e2f",
           "#f2e8cf",
           "#bcd379",
           "#f2e8cf",
           "#f2e8cf",
           "#bcd379",
           "#bcd379",
           "#f2e8cf",
           "#f2e8cf",
           "#f2e8cf",
           "#bcd379",
           "#f87a63",
           "#f2e8cf",
           "#326e2f",
           "#326e2f",
           "#f2e8cf",
           "#f2e8cf",
           "#f2e8cf",
           "#326e2f",
           "#f2e8cf",
           "#326e2f",
           "#f2e8cf",
           "#f2e8cf",
           "#bcd379",
           "#bcd379",
           "#f2e8cf",
           "#bcd379",
           "#f2e8cf",
           "#f87a63",
           "#f2e8cf",
           "#f2e8cf",
           "#bcd379",
           "#f87a63",
           "#f2e8cf",
           "#bcd379",
           "#bcd379",
           "#f2e8cf",
           "#bcd379",
           "#f2e8cf",
           "#f87a63",
           "#f2e8cf",
           "#f2e8cf",
           "#f2e8cf",
           "#f87a63",
           "#f2e8cf",
           "#f87a63",
           "#bcd379",
           "#f87a63",
           "#f2e8cf",
           "#bcd379",
           "#f2e8cf",
           "#bcd379",
           "#f2e8cf",
           "#f2e8cf",
           "#f2e8cf",
           "#f2e8cf",
           "#bcd379",
           "#f2e8cf",
           "#f87a63",
           "#326e2f",
           "#bcd379",
           "#bcd379",
           "#bcd379",
           "#f2e8cf",
           "#f2e8cf",
           "#f87a63",
           "#f2e8cf",
           "#f87a63",
           "#f2e8cf",
           "#d32e05",
           "#f2e8cf",
           "#bcd379",
           "#f2e8cf",
           "#f87a63",
           "#326e2f",
           "#f2e8cf",
           "#f2e8cf",
           "#f2e8cf",
           "#bcd379",
           "#f2e8cf",
           "#bcd379",
           "#326e2f",
           "#f2e8cf",
           "#f87a63",
           "#f2e8cf",
           "#f2e8cf",
           "#bcd379",
           "#bcd379",
           "#f2e8cf",
           "#bcd379",
           "#f87a63",
           "#f2e8cf",
           "#bcd379",
           "#f87a63",
           "#f87a63",
           "#bcd379",
           "#f2e8cf",
           "#f87a63",
           "#bcd379",
           "#bcd379",
           "#bcd379",
           "#f2e8cf",
           "#f2e8cf",
           "#bcd379",
           "#bcd379",
           "#f2e8cf",
           "#f2e8cf",
           "#f2e8cf",
           "#f2e8cf",
           "#f2e8cf",
           "#326e2f",
           "#bcd379",
           "#326e2f",
           "#bcd379",
           "#f2e8cf",
           "#f2e8cf",
           "#f2e8cf",
           "#f2e8cf",
           "#f2e8cf",
           "#f2e8cf",
           "#bcd379",
           "#bcd379",
           "#f2e8cf",
           "#f87a63",
           "#f2e8cf",
           "#d32e05",
           "#f2e8cf",
           "#f2e8cf",
           "#bcd379",
           "#f2e8cf",
           "#f87a63",
           "#f2e8cf",
           "#326e2f",
           "#f2e8cf",
           "#bcd379",
           "#f2e8cf",
           "#bcd379",
           "#f2e8cf",
           "#bcd379",
           "#f2e8cf",
           "#bcd379",
           "#f2e8cf",
           "#f2e8cf",
           "#f2e8cf",
           "#bcd379",
           "#f2e8cf",
           "#f87a63",
           "#f2e8cf",
           "#f87a63",
           "#f2e8cf",
           "#f2e8cf",
           "#bcd379",
           "#d32e05",
           "#f2e8cf",
           "#f2e8cf",
           "#f2e8cf",
           "#bcd379",
           "#bcd379",
           "#f87a63",
           "#bcd379",
           "#f2e8cf",
           "#f2e8cf",
           "#f2e8cf",
           "#f87a63",
           "#f87a63",
           "#bcd379",
           "#f2e8cf",
           "#bcd379",
           "#f87a63",
           "#f2e8cf",
           "#bcd379",
           "#bcd379",
           "#bcd379",
           "#f2e8cf",
           "#f2e8cf",
           "#f2e8cf",
           "#f2e8cf",
           "#f2e8cf",
           "#f2e8cf",
           "#bcd379",
           "#f87a63",
           "#f2e8cf",
           "#bcd379",
           "#bcd379",
           "#f87a63",
           "#f2e8cf",
           "#f2e8cf",
           "#f87a63",
           "#f87a63",
           "#f2e8cf",
           "#f2e8cf",
           "#f2e8cf",
           "#bcd379",
           "#f2e8cf",
           "#f2e8cf",
           "#f2e8cf",
           "#326e2f",
           "#f2e8cf",
           "#f2e8cf",
           "#bcd379",
           "#f2e8cf",
           "#bcd379",
           "#f87a63",
           "#326e2f",
           "#f2e8cf",
           "#f87a63",
           "#bcd379",
           "#f2e8cf",
           "#bcd379",
           "#bcd379",
           "#f2e8cf",
           "#f2e8cf",
           "#f2e8cf",
           "#bcd379",
           "#f2e8cf",
           "#f87a63",
           "#bcd379",
           "#f2e8cf",
           "#f2e8cf",
           "#f2e8cf",
           "#f2e8cf",
           "#f2e8cf",
           "#f2e8cf",
           "#f2e8cf",
           "#bcd379",
           "#bcd379",
           "#bcd379",
           "#f87a63",
           "#f87a63",
           "#bcd379",
           "#f2e8cf",
           "#f2e8cf",
           "#f2e8cf",
           "#f2e8cf",
           "#bcd379",
           "#f87a63",
           "#bcd379",
           "#bcd379",
           "#f2e8cf",
           "#f2e8cf",
           "#d32e05",
           "#f87a63",
           "#f2e8cf",
           "#f87a63",
           "#bcd379",
           "#bcd379",
           "#f2e8cf",
           "#f87a63",
           "#bcd379",
           "#f87a63",
           "#f2e8cf",
           "#bcd379",
           "#f2e8cf",
           "#f2e8cf",
           "#f2e8cf",
           "#bcd379",
           "#326e2f",
           "#bcd379",
           "#bcd379",
           "#bcd379",
           "#f87a63",
           "#f87a63",
           "#bcd379",
           "#f87a63",
           "#bcd379",
           "#f2e8cf",
           "#bcd379",
           "#bcd379",
           "#f2e8cf",
           "#f2e8cf",
           "#f87a63",
           "#f2e8cf",
           "#f2e8cf",
           "#f2e8cf",
           "#f2e8cf",
           "#f2e8cf",
           "#f87a63",
           "#bcd379",
           "#f2e8cf",
           "#f2e8cf",
           "#bcd379",
           "#bcd379",
           "#f2e8cf",
           "#f2e8cf",
           "#f2e8cf",
           "#f2e8cf",
           "#bcd379",
           "#bcd379",
           "#f87a63",
           "#f2e8cf",
           "#f2e8cf",
           "#bcd379",
           "#f2e8cf",
           "#f87a63",
           "#f2e8cf",
           "#bcd379",
           "#bcd379",
           "#bcd379",
           "#f2e8cf",
           "#f2e8cf",
           "#bcd379",
           "#f2e8cf",
           "#bcd379",
           "#bcd379",
           "#f87a63",
           "#f2e8cf",
           "#f2e8cf",
           "#f2e8cf",
           "#bcd379",
           "#f2e8cf",
           "#f2e8cf",
           "#f2e8cf",
           "#bcd379",
           "#bcd379",
           "#bcd379",
           "#f2e8cf",
           "#f2e8cf",
           "#f2e8cf",
           "#f2e8cf",
           "#d32e05",
           "#f87a63",
           "#f87a63",
           "#bcd379",
           "#f2e8cf",
           "#326e2f",
           "#bcd379",
           "#f2e8cf",
           "#f2e8cf",
           "#f2e8cf",
           "#f2e8cf",
           "#f2e8cf",
           "#f2e8cf",
           "#f2e8cf",
           "#bcd379",
           "#bcd379",
           "#f2e8cf",
           "#f2e8cf",
           "#f87a63",
           "#f2e8cf",
           "#f87a63",
           "#bcd379",
           "#f2e8cf",
           "#bcd379",
           "#f2e8cf",
           "#f2e8cf",
           "#f2e8cf",
           "#f2e8cf",
           "#f2e8cf",
           "#bcd379",
           "#f2e8cf",
           "#bcd379",
           "#f2e8cf",
           "#f2e8cf",
           "#326e2f",
           "#bcd379",
           "#f2e8cf",
           "#bcd379",
           "#f87a63",
           "#bcd379",
           "#d32e05",
           "#326e2f",
           "#f2e8cf",
           "#f2e8cf",
           "#f87a63",
           "#f2e8cf",
           "#bcd379",
           "#f2e8cf",
           "#f2e8cf",
           "#f2e8cf",
           "#f2e8cf",
           "#f2e8cf",
           "#f2e8cf",
           "#f2e8cf",
           "#f2e8cf",
           "#f2e8cf",
           "#f2e8cf",
           "#f87a63",
           "#f2e8cf",
           "#f2e8cf",
           "#bcd379",
           "#f2e8cf",
           "#f87a63",
           "#f2e8cf",
           "#bcd379",
           "#bcd379",
           "#f2e8cf",
           "#f2e8cf",
           "#f2e8cf",
           "#f2e8cf",
           "#f2e8cf",
           "#f2e8cf",
           "#bcd379",
           "#bcd379",
           "#f2e8cf",
           "#f2e8cf",
           "#f2e8cf",
           "#f2e8cf",
           "#bcd379",
           "#bcd379",
           "#f2e8cf",
           "#f2e8cf",
           "#f2e8cf",
           "#f2e8cf",
           "#f2e8cf",
           "#bcd379",
           "#f2e8cf",
           "#bcd379",
           "#f2e8cf",
           "#f2e8cf",
           "#f2e8cf",
           "#f2e8cf",
           "#bcd379",
           "#f2e8cf",
           "#f2e8cf",
           "#f87a63",
           "#f2e8cf",
           "#d32e05",
           "#bcd379",
           "#f87a63",
           "#f2e8cf",
           "#bcd379",
           "#f2e8cf",
           "#d32e05",
           "#f2e8cf",
           "#f87a63",
           "#f2e8cf",
           "#326e2f",
           "#f2e8cf",
           "#bcd379",
           "#bcd379",
           "#f2e8cf",
           "#f2e8cf",
           "#bcd379",
           "#f2e8cf",
           "#f2e8cf",
           "#f2e8cf",
           "#f2e8cf",
           "#bcd379",
           "#f2e8cf",
           "#bcd379",
           "#bcd379",
           "#bcd379",
           "#f2e8cf",
           "#f2e8cf",
           "#f2e8cf",
           "#f2e8cf",
           "#f2e8cf",
           "#f2e8cf",
           "#f87a63",
           "#bcd379",
           "#bcd379",
           "#f2e8cf",
           "#f2e8cf",
           "#f87a63",
           "#f2e8cf",
           "#f87a63",
           "#bcd379",
           "#f2e8cf",
           "#bcd379",
           "#f2e8cf",
           "#bcd379",
           "#f2e8cf",
           "#f2e8cf",
           "#f2e8cf",
           "#bcd379",
           "#f2e8cf",
           "#f2e8cf",
           "#bcd379",
           "#bcd379",
           "#f2e8cf",
           "#bcd379",
           "#f2e8cf",
           "#f2e8cf",
           "#f2e8cf",
           "#bcd379",
           "#f2e8cf",
           "#f87a63",
           "#bcd379",
           "#326e2f",
           "#f2e8cf",
           "#f2e8cf",
           "#f2e8cf",
           "#bcd379",
           "#f87a63",
           "#f87a63",
           "#f87a63",
           "#bcd379",
           "#f2e8cf",
           "#d32e05",
           "#f2e8cf",
           "#f2e8cf",
           "#d32e05",
           "#f2e8cf",
           "#f87a63",
           "#bcd379",
           "#bcd379",
           "#326e2f",
           "#f2e8cf",
           "#f2e8cf",
           "#bcd379",
           "#bcd379",
           "#bcd379",
           "#f2e8cf",
           "#f2e8cf",
           "#f2e8cf",
           "#f2e8cf",
           "#bcd379",
           "#f87a63",
           "#f87a63",
           "#f87a63",
           "#f2e8cf",
           "#f2e8cf",
           "#f2e8cf",
           "#bcd379",
           "#f87a63",
           "#f2e8cf",
           "#f2e8cf",
           "#326e2f",
           "#f2e8cf",
           "#f2e8cf",
           "#bcd379",
           "#f2e8cf",
           "#f2e8cf",
           "#f2e8cf",
           "#f2e8cf",
           "#f2e8cf",
           "#f2e8cf",
           "#f2e8cf",
           "#f2e8cf",
           "#bcd379",
           "#f87a63",
           "#f2e8cf",
           "#f2e8cf",
           "#bcd379",
           "#f87a63",
           "#bcd379",
           "#f2e8cf",
           "#bcd379",
           "#f2e8cf",
           "#bcd379",
           "#f2e8cf",
           "#f2e8cf",
           "#f2e8cf",
           "#f2e8cf",
           "#f2e8cf",
           "#bcd379",
           "#f2e8cf",
           "#f2e8cf",
           "#f2e8cf",
           "#f2e8cf",
           "#f2e8cf",
           "#f2e8cf",
           "#bcd379",
           "#bcd379",
           "#f2e8cf",
           "#f2e8cf",
           "#f2e8cf",
           "#bcd379",
           "#bcd379",
           "#f2e8cf",
           "#f2e8cf",
           "#bcd379",
           "#bcd379",
           "#f87a63",
           "#f87a63",
           "#bcd379",
           "#bcd379",
           "#bcd379",
           "#f87a63",
           "#f87a63",
           "#f87a63",
           "#bcd379",
           "#bcd379",
           "#f2e8cf",
           "#f2e8cf",
           "#f2e8cf",
           "#f2e8cf",
           "#bcd379",
           "#f2e8cf",
           "#f87a63",
           "#f2e8cf",
           "#f2e8cf",
           "#f2e8cf",
           "#326e2f",
           "#f87a63",
           "#bcd379",
           "#bcd379",
           "#f2e8cf",
           "#bcd379",
           "#f2e8cf",
           "#bcd379",
           "#f2e8cf",
           "#bcd379",
           "#bcd379",
           "#bcd379",
           "#326e2f",
           "#f2e8cf",
           "#bcd379",
           "#f87a63",
           "#f2e8cf",
           "#bcd379",
           "#bcd379",
           "#f2e8cf",
           "#f2e8cf",
           "#f87a63",
           "#bcd379",
           "#f2e8cf",
           "#f2e8cf",
           "#bcd379",
           "#bcd379",
           "#f2e8cf",
           "#f2e8cf",
           "#f2e8cf",
           "#f2e8cf",
           "#f2e8cf",
           "#d32e05",
           "#f2e8cf",
           "#bcd379",
           "#f2e8cf",
           "#bcd379",
           "#f87a63",
           "#f2e8cf",
           "#f2e8cf",
           "#f2e8cf",
           "#326e2f",
           "#bcd379",
           "#f2e8cf"
          ]
         },
         "name": "",
         "showlegend": true,
         "type": "pie"
        }
       ],
       "layout": {
        "legend": {
         "tracegroupgap": 0
        },
        "template": {
         "data": {
          "bar": [
           {
            "error_x": {
             "color": "#2a3f5f"
            },
            "error_y": {
             "color": "#2a3f5f"
            },
            "marker": {
             "line": {
              "color": "#E5ECF6",
              "width": 0.5
             },
             "pattern": {
              "fillmode": "overlay",
              "size": 10,
              "solidity": 0.2
             }
            },
            "type": "bar"
           }
          ],
          "barpolar": [
           {
            "marker": {
             "line": {
              "color": "#E5ECF6",
              "width": 0.5
             },
             "pattern": {
              "fillmode": "overlay",
              "size": 10,
              "solidity": 0.2
             }
            },
            "type": "barpolar"
           }
          ],
          "carpet": [
           {
            "aaxis": {
             "endlinecolor": "#2a3f5f",
             "gridcolor": "white",
             "linecolor": "white",
             "minorgridcolor": "white",
             "startlinecolor": "#2a3f5f"
            },
            "baxis": {
             "endlinecolor": "#2a3f5f",
             "gridcolor": "white",
             "linecolor": "white",
             "minorgridcolor": "white",
             "startlinecolor": "#2a3f5f"
            },
            "type": "carpet"
           }
          ],
          "choropleth": [
           {
            "colorbar": {
             "outlinewidth": 0,
             "ticks": ""
            },
            "type": "choropleth"
           }
          ],
          "contour": [
           {
            "colorbar": {
             "outlinewidth": 0,
             "ticks": ""
            },
            "colorscale": [
             [
              0,
              "#0d0887"
             ],
             [
              0.1111111111111111,
              "#46039f"
             ],
             [
              0.2222222222222222,
              "#7201a8"
             ],
             [
              0.3333333333333333,
              "#9c179e"
             ],
             [
              0.4444444444444444,
              "#bd3786"
             ],
             [
              0.5555555555555556,
              "#d8576b"
             ],
             [
              0.6666666666666666,
              "#ed7953"
             ],
             [
              0.7777777777777778,
              "#fb9f3a"
             ],
             [
              0.8888888888888888,
              "#fdca26"
             ],
             [
              1,
              "#f0f921"
             ]
            ],
            "type": "contour"
           }
          ],
          "contourcarpet": [
           {
            "colorbar": {
             "outlinewidth": 0,
             "ticks": ""
            },
            "type": "contourcarpet"
           }
          ],
          "heatmap": [
           {
            "colorbar": {
             "outlinewidth": 0,
             "ticks": ""
            },
            "colorscale": [
             [
              0,
              "#0d0887"
             ],
             [
              0.1111111111111111,
              "#46039f"
             ],
             [
              0.2222222222222222,
              "#7201a8"
             ],
             [
              0.3333333333333333,
              "#9c179e"
             ],
             [
              0.4444444444444444,
              "#bd3786"
             ],
             [
              0.5555555555555556,
              "#d8576b"
             ],
             [
              0.6666666666666666,
              "#ed7953"
             ],
             [
              0.7777777777777778,
              "#fb9f3a"
             ],
             [
              0.8888888888888888,
              "#fdca26"
             ],
             [
              1,
              "#f0f921"
             ]
            ],
            "type": "heatmap"
           }
          ],
          "heatmapgl": [
           {
            "colorbar": {
             "outlinewidth": 0,
             "ticks": ""
            },
            "colorscale": [
             [
              0,
              "#0d0887"
             ],
             [
              0.1111111111111111,
              "#46039f"
             ],
             [
              0.2222222222222222,
              "#7201a8"
             ],
             [
              0.3333333333333333,
              "#9c179e"
             ],
             [
              0.4444444444444444,
              "#bd3786"
             ],
             [
              0.5555555555555556,
              "#d8576b"
             ],
             [
              0.6666666666666666,
              "#ed7953"
             ],
             [
              0.7777777777777778,
              "#fb9f3a"
             ],
             [
              0.8888888888888888,
              "#fdca26"
             ],
             [
              1,
              "#f0f921"
             ]
            ],
            "type": "heatmapgl"
           }
          ],
          "histogram": [
           {
            "marker": {
             "pattern": {
              "fillmode": "overlay",
              "size": 10,
              "solidity": 0.2
             }
            },
            "type": "histogram"
           }
          ],
          "histogram2d": [
           {
            "colorbar": {
             "outlinewidth": 0,
             "ticks": ""
            },
            "colorscale": [
             [
              0,
              "#0d0887"
             ],
             [
              0.1111111111111111,
              "#46039f"
             ],
             [
              0.2222222222222222,
              "#7201a8"
             ],
             [
              0.3333333333333333,
              "#9c179e"
             ],
             [
              0.4444444444444444,
              "#bd3786"
             ],
             [
              0.5555555555555556,
              "#d8576b"
             ],
             [
              0.6666666666666666,
              "#ed7953"
             ],
             [
              0.7777777777777778,
              "#fb9f3a"
             ],
             [
              0.8888888888888888,
              "#fdca26"
             ],
             [
              1,
              "#f0f921"
             ]
            ],
            "type": "histogram2d"
           }
          ],
          "histogram2dcontour": [
           {
            "colorbar": {
             "outlinewidth": 0,
             "ticks": ""
            },
            "colorscale": [
             [
              0,
              "#0d0887"
             ],
             [
              0.1111111111111111,
              "#46039f"
             ],
             [
              0.2222222222222222,
              "#7201a8"
             ],
             [
              0.3333333333333333,
              "#9c179e"
             ],
             [
              0.4444444444444444,
              "#bd3786"
             ],
             [
              0.5555555555555556,
              "#d8576b"
             ],
             [
              0.6666666666666666,
              "#ed7953"
             ],
             [
              0.7777777777777778,
              "#fb9f3a"
             ],
             [
              0.8888888888888888,
              "#fdca26"
             ],
             [
              1,
              "#f0f921"
             ]
            ],
            "type": "histogram2dcontour"
           }
          ],
          "mesh3d": [
           {
            "colorbar": {
             "outlinewidth": 0,
             "ticks": ""
            },
            "type": "mesh3d"
           }
          ],
          "parcoords": [
           {
            "line": {
             "colorbar": {
              "outlinewidth": 0,
              "ticks": ""
             }
            },
            "type": "parcoords"
           }
          ],
          "pie": [
           {
            "automargin": true,
            "type": "pie"
           }
          ],
          "scatter": [
           {
            "fillpattern": {
             "fillmode": "overlay",
             "size": 10,
             "solidity": 0.2
            },
            "type": "scatter"
           }
          ],
          "scatter3d": [
           {
            "line": {
             "colorbar": {
              "outlinewidth": 0,
              "ticks": ""
             }
            },
            "marker": {
             "colorbar": {
              "outlinewidth": 0,
              "ticks": ""
             }
            },
            "type": "scatter3d"
           }
          ],
          "scattercarpet": [
           {
            "marker": {
             "colorbar": {
              "outlinewidth": 0,
              "ticks": ""
             }
            },
            "type": "scattercarpet"
           }
          ],
          "scattergeo": [
           {
            "marker": {
             "colorbar": {
              "outlinewidth": 0,
              "ticks": ""
             }
            },
            "type": "scattergeo"
           }
          ],
          "scattergl": [
           {
            "marker": {
             "colorbar": {
              "outlinewidth": 0,
              "ticks": ""
             }
            },
            "type": "scattergl"
           }
          ],
          "scattermapbox": [
           {
            "marker": {
             "colorbar": {
              "outlinewidth": 0,
              "ticks": ""
             }
            },
            "type": "scattermapbox"
           }
          ],
          "scatterpolar": [
           {
            "marker": {
             "colorbar": {
              "outlinewidth": 0,
              "ticks": ""
             }
            },
            "type": "scatterpolar"
           }
          ],
          "scatterpolargl": [
           {
            "marker": {
             "colorbar": {
              "outlinewidth": 0,
              "ticks": ""
             }
            },
            "type": "scatterpolargl"
           }
          ],
          "scatterternary": [
           {
            "marker": {
             "colorbar": {
              "outlinewidth": 0,
              "ticks": ""
             }
            },
            "type": "scatterternary"
           }
          ],
          "surface": [
           {
            "colorbar": {
             "outlinewidth": 0,
             "ticks": ""
            },
            "colorscale": [
             [
              0,
              "#0d0887"
             ],
             [
              0.1111111111111111,
              "#46039f"
             ],
             [
              0.2222222222222222,
              "#7201a8"
             ],
             [
              0.3333333333333333,
              "#9c179e"
             ],
             [
              0.4444444444444444,
              "#bd3786"
             ],
             [
              0.5555555555555556,
              "#d8576b"
             ],
             [
              0.6666666666666666,
              "#ed7953"
             ],
             [
              0.7777777777777778,
              "#fb9f3a"
             ],
             [
              0.8888888888888888,
              "#fdca26"
             ],
             [
              1,
              "#f0f921"
             ]
            ],
            "type": "surface"
           }
          ],
          "table": [
           {
            "cells": {
             "fill": {
              "color": "#EBF0F8"
             },
             "line": {
              "color": "white"
             }
            },
            "header": {
             "fill": {
              "color": "#C8D4E3"
             },
             "line": {
              "color": "white"
             }
            },
            "type": "table"
           }
          ]
         },
         "layout": {
          "annotationdefaults": {
           "arrowcolor": "#2a3f5f",
           "arrowhead": 0,
           "arrowwidth": 1
          },
          "autotypenumbers": "strict",
          "coloraxis": {
           "colorbar": {
            "outlinewidth": 0,
            "ticks": ""
           }
          },
          "colorscale": {
           "diverging": [
            [
             0,
             "#8e0152"
            ],
            [
             0.1,
             "#c51b7d"
            ],
            [
             0.2,
             "#de77ae"
            ],
            [
             0.3,
             "#f1b6da"
            ],
            [
             0.4,
             "#fde0ef"
            ],
            [
             0.5,
             "#f7f7f7"
            ],
            [
             0.6,
             "#e6f5d0"
            ],
            [
             0.7,
             "#b8e186"
            ],
            [
             0.8,
             "#7fbc41"
            ],
            [
             0.9,
             "#4d9221"
            ],
            [
             1,
             "#276419"
            ]
           ],
           "sequential": [
            [
             0,
             "#0d0887"
            ],
            [
             0.1111111111111111,
             "#46039f"
            ],
            [
             0.2222222222222222,
             "#7201a8"
            ],
            [
             0.3333333333333333,
             "#9c179e"
            ],
            [
             0.4444444444444444,
             "#bd3786"
            ],
            [
             0.5555555555555556,
             "#d8576b"
            ],
            [
             0.6666666666666666,
             "#ed7953"
            ],
            [
             0.7777777777777778,
             "#fb9f3a"
            ],
            [
             0.8888888888888888,
             "#fdca26"
            ],
            [
             1,
             "#f0f921"
            ]
           ],
           "sequentialminus": [
            [
             0,
             "#0d0887"
            ],
            [
             0.1111111111111111,
             "#46039f"
            ],
            [
             0.2222222222222222,
             "#7201a8"
            ],
            [
             0.3333333333333333,
             "#9c179e"
            ],
            [
             0.4444444444444444,
             "#bd3786"
            ],
            [
             0.5555555555555556,
             "#d8576b"
            ],
            [
             0.6666666666666666,
             "#ed7953"
            ],
            [
             0.7777777777777778,
             "#fb9f3a"
            ],
            [
             0.8888888888888888,
             "#fdca26"
            ],
            [
             1,
             "#f0f921"
            ]
           ]
          },
          "colorway": [
           "#636efa",
           "#EF553B",
           "#00cc96",
           "#ab63fa",
           "#FFA15A",
           "#19d3f3",
           "#FF6692",
           "#B6E880",
           "#FF97FF",
           "#FECB52"
          ],
          "font": {
           "color": "#2a3f5f"
          },
          "geo": {
           "bgcolor": "white",
           "lakecolor": "white",
           "landcolor": "#E5ECF6",
           "showlakes": true,
           "showland": true,
           "subunitcolor": "white"
          },
          "hoverlabel": {
           "align": "left"
          },
          "hovermode": "closest",
          "mapbox": {
           "style": "light"
          },
          "paper_bgcolor": "white",
          "plot_bgcolor": "#E5ECF6",
          "polar": {
           "angularaxis": {
            "gridcolor": "white",
            "linecolor": "white",
            "ticks": ""
           },
           "bgcolor": "#E5ECF6",
           "radialaxis": {
            "gridcolor": "white",
            "linecolor": "white",
            "ticks": ""
           }
          },
          "scene": {
           "xaxis": {
            "backgroundcolor": "#E5ECF6",
            "gridcolor": "white",
            "gridwidth": 2,
            "linecolor": "white",
            "showbackground": true,
            "ticks": "",
            "zerolinecolor": "white"
           },
           "yaxis": {
            "backgroundcolor": "#E5ECF6",
            "gridcolor": "white",
            "gridwidth": 2,
            "linecolor": "white",
            "showbackground": true,
            "ticks": "",
            "zerolinecolor": "white"
           },
           "zaxis": {
            "backgroundcolor": "#E5ECF6",
            "gridcolor": "white",
            "gridwidth": 2,
            "linecolor": "white",
            "showbackground": true,
            "ticks": "",
            "zerolinecolor": "white"
           }
          },
          "shapedefaults": {
           "line": {
            "color": "#2a3f5f"
           }
          },
          "ternary": {
           "aaxis": {
            "gridcolor": "white",
            "linecolor": "white",
            "ticks": ""
           },
           "baxis": {
            "gridcolor": "white",
            "linecolor": "white",
            "ticks": ""
           },
           "bgcolor": "#E5ECF6",
           "caxis": {
            "gridcolor": "white",
            "linecolor": "white",
            "ticks": ""
           }
          },
          "title": {
           "x": 0.05
          },
          "xaxis": {
           "automargin": true,
           "gridcolor": "white",
           "linecolor": "white",
           "ticks": "",
           "title": {
            "standoff": 15
           },
           "zerolinecolor": "white",
           "zerolinewidth": 2
          },
          "yaxis": {
           "automargin": true,
           "gridcolor": "white",
           "linecolor": "white",
           "ticks": "",
           "title": {
            "standoff": 15
           },
           "zerolinecolor": "white",
           "zerolinewidth": 2
          }
         }
        },
        "title": {
         "text": "Pie chart of each sentiment class"
        }
       }
      },
      "text/html": [
       "<div>                            <div id=\"73a4ee63-bbfd-4e19-be18-b35e2eed26e5\" class=\"plotly-graph-div\" style=\"height:525px; width:100%;\"></div>            <script type=\"text/javascript\">                require([\"plotly\"], function(Plotly) {                    window.PLOTLYENV=window.PLOTLYENV || {};                                    if (document.getElementById(\"73a4ee63-bbfd-4e19-be18-b35e2eed26e5\")) {                    Plotly.newPlot(                        \"73a4ee63-bbfd-4e19-be18-b35e2eed26e5\",                        [{\"customdata\":[[\"neutral\"],[\"positive\"],[\"neutral\"],[\"neutral\"],[\"positive\"],[\"very positive\"],[\"positive\"],[\"neutral\"],[\"neutral\"],[\"positive\"],[\"neutral\"],[\"neutral\"],[\"neutral\"],[\"positive\"],[\"negative\"],[\"neutral\"],[\"positive\"],[\"positive\"],[\"neutral\"],[\"positive\"],[\"neutral\"],[\"neutral\"],[\"neutral\"],[\"neutral\"],[\"positive\"],[\"very positive\"],[\"negative\"],[\"neutral\"],[\"positive\"],[\"neutral\"],[\"negative\"],[\"neutral\"],[\"positive\"],[\"neutral\"],[\"positive\"],[\"positive\"],[\"positive\"],[\"positive\"],[\"neutral\"],[\"positive\"],[\"negative\"],[\"neutral\"],[\"neutral\"],[\"neutral\"],[\"neutral\"],[\"neutral\"],[\"neutral\"],[\"negative\"],[\"neutral\"],[\"neutral\"],[\"neutral\"],[\"very positive\"],[\"neutral\"],[\"positive\"],[\"neutral\"],[\"neutral\"],[\"positive\"],[\"positive\"],[\"neutral\"],[\"neutral\"],[\"neutral\"],[\"positive\"],[\"negative\"],[\"neutral\"],[\"very positive\"],[\"very positive\"],[\"neutral\"],[\"neutral\"],[\"neutral\"],[\"very positive\"],[\"neutral\"],[\"very positive\"],[\"neutral\"],[\"neutral\"],[\"positive\"],[\"positive\"],[\"neutral\"],[\"positive\"],[\"neutral\"],[\"negative\"],[\"neutral\"],[\"neutral\"],[\"positive\"],[\"negative\"],[\"neutral\"],[\"positive\"],[\"positive\"],[\"neutral\"],[\"positive\"],[\"neutral\"],[\"negative\"],[\"neutral\"],[\"neutral\"],[\"neutral\"],[\"negative\"],[\"neutral\"],[\"negative\"],[\"positive\"],[\"negative\"],[\"neutral\"],[\"positive\"],[\"neutral\"],[\"positive\"],[\"neutral\"],[\"neutral\"],[\"neutral\"],[\"neutral\"],[\"positive\"],[\"neutral\"],[\"negative\"],[\"very positive\"],[\"positive\"],[\"positive\"],[\"positive\"],[\"neutral\"],[\"neutral\"],[\"negative\"],[\"neutral\"],[\"negative\"],[\"neutral\"],[\"very negative\"],[\"neutral\"],[\"positive\"],[\"neutral\"],[\"negative\"],[\"very positive\"],[\"neutral\"],[\"neutral\"],[\"neutral\"],[\"positive\"],[\"neutral\"],[\"positive\"],[\"very positive\"],[\"neutral\"],[\"negative\"],[\"neutral\"],[\"neutral\"],[\"positive\"],[\"positive\"],[\"neutral\"],[\"positive\"],[\"negative\"],[\"neutral\"],[\"positive\"],[\"negative\"],[\"negative\"],[\"positive\"],[\"neutral\"],[\"negative\"],[\"positive\"],[\"positive\"],[\"positive\"],[\"neutral\"],[\"neutral\"],[\"positive\"],[\"positive\"],[\"neutral\"],[\"neutral\"],[\"neutral\"],[\"neutral\"],[\"neutral\"],[\"very positive\"],[\"positive\"],[\"very positive\"],[\"positive\"],[\"neutral\"],[\"neutral\"],[\"neutral\"],[\"neutral\"],[\"neutral\"],[\"neutral\"],[\"positive\"],[\"positive\"],[\"neutral\"],[\"negative\"],[\"neutral\"],[\"very negative\"],[\"neutral\"],[\"neutral\"],[\"positive\"],[\"neutral\"],[\"negative\"],[\"neutral\"],[\"very positive\"],[\"neutral\"],[\"positive\"],[\"neutral\"],[\"positive\"],[\"neutral\"],[\"positive\"],[\"neutral\"],[\"positive\"],[\"neutral\"],[\"neutral\"],[\"neutral\"],[\"positive\"],[\"neutral\"],[\"negative\"],[\"neutral\"],[\"negative\"],[\"neutral\"],[\"neutral\"],[\"positive\"],[\"very negative\"],[\"neutral\"],[\"neutral\"],[\"neutral\"],[\"positive\"],[\"positive\"],[\"negative\"],[\"positive\"],[\"neutral\"],[\"neutral\"],[\"neutral\"],[\"negative\"],[\"negative\"],[\"positive\"],[\"neutral\"],[\"positive\"],[\"negative\"],[\"neutral\"],[\"positive\"],[\"positive\"],[\"positive\"],[\"neutral\"],[\"neutral\"],[\"neutral\"],[\"neutral\"],[\"neutral\"],[\"neutral\"],[\"positive\"],[\"negative\"],[\"neutral\"],[\"positive\"],[\"positive\"],[\"negative\"],[\"neutral\"],[\"neutral\"],[\"negative\"],[\"negative\"],[\"neutral\"],[\"neutral\"],[\"neutral\"],[\"positive\"],[\"neutral\"],[\"neutral\"],[\"neutral\"],[\"very positive\"],[\"neutral\"],[\"neutral\"],[\"positive\"],[\"neutral\"],[\"positive\"],[\"negative\"],[\"very positive\"],[\"neutral\"],[\"negative\"],[\"positive\"],[\"neutral\"],[\"positive\"],[\"positive\"],[\"neutral\"],[\"neutral\"],[\"neutral\"],[\"positive\"],[\"neutral\"],[\"negative\"],[\"positive\"],[\"neutral\"],[\"neutral\"],[\"neutral\"],[\"neutral\"],[\"neutral\"],[\"neutral\"],[\"neutral\"],[\"positive\"],[\"positive\"],[\"positive\"],[\"negative\"],[\"negative\"],[\"positive\"],[\"neutral\"],[\"neutral\"],[\"neutral\"],[\"neutral\"],[\"positive\"],[\"negative\"],[\"positive\"],[\"positive\"],[\"neutral\"],[\"neutral\"],[\"very negative\"],[\"negative\"],[\"neutral\"],[\"negative\"],[\"positive\"],[\"positive\"],[\"neutral\"],[\"negative\"],[\"positive\"],[\"negative\"],[\"neutral\"],[\"positive\"],[\"neutral\"],[\"neutral\"],[\"neutral\"],[\"positive\"],[\"very positive\"],[\"positive\"],[\"positive\"],[\"positive\"],[\"negative\"],[\"negative\"],[\"positive\"],[\"negative\"],[\"positive\"],[\"neutral\"],[\"positive\"],[\"positive\"],[\"neutral\"],[\"neutral\"],[\"negative\"],[\"neutral\"],[\"neutral\"],[\"neutral\"],[\"neutral\"],[\"neutral\"],[\"negative\"],[\"positive\"],[\"neutral\"],[\"neutral\"],[\"positive\"],[\"positive\"],[\"neutral\"],[\"neutral\"],[\"neutral\"],[\"neutral\"],[\"positive\"],[\"positive\"],[\"negative\"],[\"neutral\"],[\"neutral\"],[\"positive\"],[\"neutral\"],[\"negative\"],[\"neutral\"],[\"positive\"],[\"positive\"],[\"positive\"],[\"neutral\"],[\"neutral\"],[\"positive\"],[\"neutral\"],[\"positive\"],[\"positive\"],[\"negative\"],[\"neutral\"],[\"neutral\"],[\"neutral\"],[\"positive\"],[\"neutral\"],[\"neutral\"],[\"neutral\"],[\"positive\"],[\"positive\"],[\"positive\"],[\"neutral\"],[\"neutral\"],[\"neutral\"],[\"neutral\"],[\"very negative\"],[\"negative\"],[\"negative\"],[\"positive\"],[\"neutral\"],[\"very positive\"],[\"positive\"],[\"neutral\"],[\"neutral\"],[\"neutral\"],[\"neutral\"],[\"neutral\"],[\"neutral\"],[\"neutral\"],[\"positive\"],[\"positive\"],[\"neutral\"],[\"neutral\"],[\"negative\"],[\"neutral\"],[\"negative\"],[\"positive\"],[\"neutral\"],[\"positive\"],[\"neutral\"],[\"neutral\"],[\"neutral\"],[\"neutral\"],[\"neutral\"],[\"positive\"],[\"neutral\"],[\"positive\"],[\"neutral\"],[\"neutral\"],[\"very positive\"],[\"positive\"],[\"neutral\"],[\"positive\"],[\"negative\"],[\"positive\"],[\"very negative\"],[\"very positive\"],[\"neutral\"],[\"neutral\"],[\"negative\"],[\"neutral\"],[\"positive\"],[\"neutral\"],[\"neutral\"],[\"neutral\"],[\"neutral\"],[\"neutral\"],[\"neutral\"],[\"neutral\"],[\"neutral\"],[\"neutral\"],[\"neutral\"],[\"negative\"],[\"neutral\"],[\"neutral\"],[\"positive\"],[\"neutral\"],[\"negative\"],[\"neutral\"],[\"positive\"],[\"positive\"],[\"neutral\"],[\"neutral\"],[\"neutral\"],[\"neutral\"],[\"neutral\"],[\"neutral\"],[\"positive\"],[\"positive\"],[\"neutral\"],[\"neutral\"],[\"neutral\"],[\"neutral\"],[\"positive\"],[\"positive\"],[\"neutral\"],[\"neutral\"],[\"neutral\"],[\"neutral\"],[\"neutral\"],[\"positive\"],[\"neutral\"],[\"positive\"],[\"neutral\"],[\"neutral\"],[\"neutral\"],[\"neutral\"],[\"positive\"],[\"neutral\"],[\"neutral\"],[\"negative\"],[\"neutral\"],[\"very negative\"],[\"positive\"],[\"negative\"],[\"neutral\"],[\"positive\"],[\"neutral\"],[\"very negative\"],[\"neutral\"],[\"negative\"],[\"neutral\"],[\"very positive\"],[\"neutral\"],[\"positive\"],[\"positive\"],[\"neutral\"],[\"neutral\"],[\"positive\"],[\"neutral\"],[\"neutral\"],[\"neutral\"],[\"neutral\"],[\"positive\"],[\"neutral\"],[\"positive\"],[\"positive\"],[\"positive\"],[\"neutral\"],[\"neutral\"],[\"neutral\"],[\"neutral\"],[\"neutral\"],[\"neutral\"],[\"negative\"],[\"positive\"],[\"positive\"],[\"neutral\"],[\"neutral\"],[\"negative\"],[\"neutral\"],[\"negative\"],[\"positive\"],[\"neutral\"],[\"positive\"],[\"neutral\"],[\"positive\"],[\"neutral\"],[\"neutral\"],[\"neutral\"],[\"positive\"],[\"neutral\"],[\"neutral\"],[\"positive\"],[\"positive\"],[\"neutral\"],[\"positive\"],[\"neutral\"],[\"neutral\"],[\"neutral\"],[\"positive\"],[\"neutral\"],[\"negative\"],[\"positive\"],[\"very positive\"],[\"neutral\"],[\"neutral\"],[\"neutral\"],[\"positive\"],[\"negative\"],[\"negative\"],[\"negative\"],[\"positive\"],[\"neutral\"],[\"very negative\"],[\"neutral\"],[\"neutral\"],[\"very negative\"],[\"neutral\"],[\"negative\"],[\"positive\"],[\"positive\"],[\"very positive\"],[\"neutral\"],[\"neutral\"],[\"positive\"],[\"positive\"],[\"positive\"],[\"neutral\"],[\"neutral\"],[\"neutral\"],[\"neutral\"],[\"positive\"],[\"negative\"],[\"negative\"],[\"negative\"],[\"neutral\"],[\"neutral\"],[\"neutral\"],[\"positive\"],[\"negative\"],[\"neutral\"],[\"neutral\"],[\"very positive\"],[\"neutral\"],[\"neutral\"],[\"positive\"],[\"neutral\"],[\"neutral\"],[\"neutral\"],[\"neutral\"],[\"neutral\"],[\"neutral\"],[\"neutral\"],[\"neutral\"],[\"positive\"],[\"negative\"],[\"neutral\"],[\"neutral\"],[\"positive\"],[\"negative\"],[\"positive\"],[\"neutral\"],[\"positive\"],[\"neutral\"],[\"positive\"],[\"neutral\"],[\"neutral\"],[\"neutral\"],[\"neutral\"],[\"neutral\"],[\"positive\"],[\"neutral\"],[\"neutral\"],[\"neutral\"],[\"neutral\"],[\"neutral\"],[\"neutral\"],[\"positive\"],[\"positive\"],[\"neutral\"],[\"neutral\"],[\"neutral\"],[\"positive\"],[\"positive\"],[\"neutral\"],[\"neutral\"],[\"positive\"],[\"positive\"],[\"negative\"],[\"negative\"],[\"positive\"],[\"positive\"],[\"positive\"],[\"negative\"],[\"negative\"],[\"negative\"],[\"positive\"],[\"positive\"],[\"neutral\"],[\"neutral\"],[\"neutral\"],[\"neutral\"],[\"positive\"],[\"neutral\"],[\"negative\"],[\"neutral\"],[\"neutral\"],[\"neutral\"],[\"very positive\"],[\"negative\"],[\"positive\"],[\"positive\"],[\"neutral\"],[\"positive\"],[\"neutral\"],[\"positive\"],[\"neutral\"],[\"positive\"],[\"positive\"],[\"positive\"],[\"very positive\"],[\"neutral\"],[\"positive\"],[\"negative\"],[\"neutral\"],[\"positive\"],[\"positive\"],[\"neutral\"],[\"neutral\"],[\"negative\"],[\"positive\"],[\"neutral\"],[\"neutral\"],[\"positive\"],[\"positive\"],[\"neutral\"],[\"neutral\"],[\"neutral\"],[\"neutral\"],[\"neutral\"],[\"very negative\"],[\"neutral\"],[\"positive\"],[\"neutral\"],[\"positive\"],[\"negative\"],[\"neutral\"],[\"neutral\"],[\"neutral\"],[\"very positive\"],[\"positive\"],[\"neutral\"]],\"domain\":{\"x\":[0.0,1.0],\"y\":[0.0,1.0]},\"hovertemplate\":\"post_sentiment_class=%{customdata[0]}<extra></extra>\",\"labels\":[\"neutral\",\"positive\",\"neutral\",\"neutral\",\"positive\",\"very positive\",\"positive\",\"neutral\",\"neutral\",\"positive\",\"neutral\",\"neutral\",\"neutral\",\"positive\",\"negative\",\"neutral\",\"positive\",\"positive\",\"neutral\",\"positive\",\"neutral\",\"neutral\",\"neutral\",\"neutral\",\"positive\",\"very positive\",\"negative\",\"neutral\",\"positive\",\"neutral\",\"negative\",\"neutral\",\"positive\",\"neutral\",\"positive\",\"positive\",\"positive\",\"positive\",\"neutral\",\"positive\",\"negative\",\"neutral\",\"neutral\",\"neutral\",\"neutral\",\"neutral\",\"neutral\",\"negative\",\"neutral\",\"neutral\",\"neutral\",\"very positive\",\"neutral\",\"positive\",\"neutral\",\"neutral\",\"positive\",\"positive\",\"neutral\",\"neutral\",\"neutral\",\"positive\",\"negative\",\"neutral\",\"very positive\",\"very positive\",\"neutral\",\"neutral\",\"neutral\",\"very positive\",\"neutral\",\"very positive\",\"neutral\",\"neutral\",\"positive\",\"positive\",\"neutral\",\"positive\",\"neutral\",\"negative\",\"neutral\",\"neutral\",\"positive\",\"negative\",\"neutral\",\"positive\",\"positive\",\"neutral\",\"positive\",\"neutral\",\"negative\",\"neutral\",\"neutral\",\"neutral\",\"negative\",\"neutral\",\"negative\",\"positive\",\"negative\",\"neutral\",\"positive\",\"neutral\",\"positive\",\"neutral\",\"neutral\",\"neutral\",\"neutral\",\"positive\",\"neutral\",\"negative\",\"very positive\",\"positive\",\"positive\",\"positive\",\"neutral\",\"neutral\",\"negative\",\"neutral\",\"negative\",\"neutral\",\"very negative\",\"neutral\",\"positive\",\"neutral\",\"negative\",\"very positive\",\"neutral\",\"neutral\",\"neutral\",\"positive\",\"neutral\",\"positive\",\"very positive\",\"neutral\",\"negative\",\"neutral\",\"neutral\",\"positive\",\"positive\",\"neutral\",\"positive\",\"negative\",\"neutral\",\"positive\",\"negative\",\"negative\",\"positive\",\"neutral\",\"negative\",\"positive\",\"positive\",\"positive\",\"neutral\",\"neutral\",\"positive\",\"positive\",\"neutral\",\"neutral\",\"neutral\",\"neutral\",\"neutral\",\"very positive\",\"positive\",\"very positive\",\"positive\",\"neutral\",\"neutral\",\"neutral\",\"neutral\",\"neutral\",\"neutral\",\"positive\",\"positive\",\"neutral\",\"negative\",\"neutral\",\"very negative\",\"neutral\",\"neutral\",\"positive\",\"neutral\",\"negative\",\"neutral\",\"very positive\",\"neutral\",\"positive\",\"neutral\",\"positive\",\"neutral\",\"positive\",\"neutral\",\"positive\",\"neutral\",\"neutral\",\"neutral\",\"positive\",\"neutral\",\"negative\",\"neutral\",\"negative\",\"neutral\",\"neutral\",\"positive\",\"very negative\",\"neutral\",\"neutral\",\"neutral\",\"positive\",\"positive\",\"negative\",\"positive\",\"neutral\",\"neutral\",\"neutral\",\"negative\",\"negative\",\"positive\",\"neutral\",\"positive\",\"negative\",\"neutral\",\"positive\",\"positive\",\"positive\",\"neutral\",\"neutral\",\"neutral\",\"neutral\",\"neutral\",\"neutral\",\"positive\",\"negative\",\"neutral\",\"positive\",\"positive\",\"negative\",\"neutral\",\"neutral\",\"negative\",\"negative\",\"neutral\",\"neutral\",\"neutral\",\"positive\",\"neutral\",\"neutral\",\"neutral\",\"very positive\",\"neutral\",\"neutral\",\"positive\",\"neutral\",\"positive\",\"negative\",\"very positive\",\"neutral\",\"negative\",\"positive\",\"neutral\",\"positive\",\"positive\",\"neutral\",\"neutral\",\"neutral\",\"positive\",\"neutral\",\"negative\",\"positive\",\"neutral\",\"neutral\",\"neutral\",\"neutral\",\"neutral\",\"neutral\",\"neutral\",\"positive\",\"positive\",\"positive\",\"negative\",\"negative\",\"positive\",\"neutral\",\"neutral\",\"neutral\",\"neutral\",\"positive\",\"negative\",\"positive\",\"positive\",\"neutral\",\"neutral\",\"very negative\",\"negative\",\"neutral\",\"negative\",\"positive\",\"positive\",\"neutral\",\"negative\",\"positive\",\"negative\",\"neutral\",\"positive\",\"neutral\",\"neutral\",\"neutral\",\"positive\",\"very positive\",\"positive\",\"positive\",\"positive\",\"negative\",\"negative\",\"positive\",\"negative\",\"positive\",\"neutral\",\"positive\",\"positive\",\"neutral\",\"neutral\",\"negative\",\"neutral\",\"neutral\",\"neutral\",\"neutral\",\"neutral\",\"negative\",\"positive\",\"neutral\",\"neutral\",\"positive\",\"positive\",\"neutral\",\"neutral\",\"neutral\",\"neutral\",\"positive\",\"positive\",\"negative\",\"neutral\",\"neutral\",\"positive\",\"neutral\",\"negative\",\"neutral\",\"positive\",\"positive\",\"positive\",\"neutral\",\"neutral\",\"positive\",\"neutral\",\"positive\",\"positive\",\"negative\",\"neutral\",\"neutral\",\"neutral\",\"positive\",\"neutral\",\"neutral\",\"neutral\",\"positive\",\"positive\",\"positive\",\"neutral\",\"neutral\",\"neutral\",\"neutral\",\"very negative\",\"negative\",\"negative\",\"positive\",\"neutral\",\"very positive\",\"positive\",\"neutral\",\"neutral\",\"neutral\",\"neutral\",\"neutral\",\"neutral\",\"neutral\",\"positive\",\"positive\",\"neutral\",\"neutral\",\"negative\",\"neutral\",\"negative\",\"positive\",\"neutral\",\"positive\",\"neutral\",\"neutral\",\"neutral\",\"neutral\",\"neutral\",\"positive\",\"neutral\",\"positive\",\"neutral\",\"neutral\",\"very positive\",\"positive\",\"neutral\",\"positive\",\"negative\",\"positive\",\"very negative\",\"very positive\",\"neutral\",\"neutral\",\"negative\",\"neutral\",\"positive\",\"neutral\",\"neutral\",\"neutral\",\"neutral\",\"neutral\",\"neutral\",\"neutral\",\"neutral\",\"neutral\",\"neutral\",\"negative\",\"neutral\",\"neutral\",\"positive\",\"neutral\",\"negative\",\"neutral\",\"positive\",\"positive\",\"neutral\",\"neutral\",\"neutral\",\"neutral\",\"neutral\",\"neutral\",\"positive\",\"positive\",\"neutral\",\"neutral\",\"neutral\",\"neutral\",\"positive\",\"positive\",\"neutral\",\"neutral\",\"neutral\",\"neutral\",\"neutral\",\"positive\",\"neutral\",\"positive\",\"neutral\",\"neutral\",\"neutral\",\"neutral\",\"positive\",\"neutral\",\"neutral\",\"negative\",\"neutral\",\"very negative\",\"positive\",\"negative\",\"neutral\",\"positive\",\"neutral\",\"very negative\",\"neutral\",\"negative\",\"neutral\",\"very positive\",\"neutral\",\"positive\",\"positive\",\"neutral\",\"neutral\",\"positive\",\"neutral\",\"neutral\",\"neutral\",\"neutral\",\"positive\",\"neutral\",\"positive\",\"positive\",\"positive\",\"neutral\",\"neutral\",\"neutral\",\"neutral\",\"neutral\",\"neutral\",\"negative\",\"positive\",\"positive\",\"neutral\",\"neutral\",\"negative\",\"neutral\",\"negative\",\"positive\",\"neutral\",\"positive\",\"neutral\",\"positive\",\"neutral\",\"neutral\",\"neutral\",\"positive\",\"neutral\",\"neutral\",\"positive\",\"positive\",\"neutral\",\"positive\",\"neutral\",\"neutral\",\"neutral\",\"positive\",\"neutral\",\"negative\",\"positive\",\"very positive\",\"neutral\",\"neutral\",\"neutral\",\"positive\",\"negative\",\"negative\",\"negative\",\"positive\",\"neutral\",\"very negative\",\"neutral\",\"neutral\",\"very negative\",\"neutral\",\"negative\",\"positive\",\"positive\",\"very positive\",\"neutral\",\"neutral\",\"positive\",\"positive\",\"positive\",\"neutral\",\"neutral\",\"neutral\",\"neutral\",\"positive\",\"negative\",\"negative\",\"negative\",\"neutral\",\"neutral\",\"neutral\",\"positive\",\"negative\",\"neutral\",\"neutral\",\"very positive\",\"neutral\",\"neutral\",\"positive\",\"neutral\",\"neutral\",\"neutral\",\"neutral\",\"neutral\",\"neutral\",\"neutral\",\"neutral\",\"positive\",\"negative\",\"neutral\",\"neutral\",\"positive\",\"negative\",\"positive\",\"neutral\",\"positive\",\"neutral\",\"positive\",\"neutral\",\"neutral\",\"neutral\",\"neutral\",\"neutral\",\"positive\",\"neutral\",\"neutral\",\"neutral\",\"neutral\",\"neutral\",\"neutral\",\"positive\",\"positive\",\"neutral\",\"neutral\",\"neutral\",\"positive\",\"positive\",\"neutral\",\"neutral\",\"positive\",\"positive\",\"negative\",\"negative\",\"positive\",\"positive\",\"positive\",\"negative\",\"negative\",\"negative\",\"positive\",\"positive\",\"neutral\",\"neutral\",\"neutral\",\"neutral\",\"positive\",\"neutral\",\"negative\",\"neutral\",\"neutral\",\"neutral\",\"very positive\",\"negative\",\"positive\",\"positive\",\"neutral\",\"positive\",\"neutral\",\"positive\",\"neutral\",\"positive\",\"positive\",\"positive\",\"very positive\",\"neutral\",\"positive\",\"negative\",\"neutral\",\"positive\",\"positive\",\"neutral\",\"neutral\",\"negative\",\"positive\",\"neutral\",\"neutral\",\"positive\",\"positive\",\"neutral\",\"neutral\",\"neutral\",\"neutral\",\"neutral\",\"very negative\",\"neutral\",\"positive\",\"neutral\",\"positive\",\"negative\",\"neutral\",\"neutral\",\"neutral\",\"very positive\",\"positive\",\"neutral\"],\"legendgroup\":\"\",\"marker\":{\"colors\":[\"#f2e8cf\",\"#bcd379\",\"#f2e8cf\",\"#f2e8cf\",\"#bcd379\",\"#326e2f\",\"#bcd379\",\"#f2e8cf\",\"#f2e8cf\",\"#bcd379\",\"#f2e8cf\",\"#f2e8cf\",\"#f2e8cf\",\"#bcd379\",\"#f87a63\",\"#f2e8cf\",\"#bcd379\",\"#bcd379\",\"#f2e8cf\",\"#bcd379\",\"#f2e8cf\",\"#f2e8cf\",\"#f2e8cf\",\"#f2e8cf\",\"#bcd379\",\"#326e2f\",\"#f87a63\",\"#f2e8cf\",\"#bcd379\",\"#f2e8cf\",\"#f87a63\",\"#f2e8cf\",\"#bcd379\",\"#f2e8cf\",\"#bcd379\",\"#bcd379\",\"#bcd379\",\"#bcd379\",\"#f2e8cf\",\"#bcd379\",\"#f87a63\",\"#f2e8cf\",\"#f2e8cf\",\"#f2e8cf\",\"#f2e8cf\",\"#f2e8cf\",\"#f2e8cf\",\"#f87a63\",\"#f2e8cf\",\"#f2e8cf\",\"#f2e8cf\",\"#326e2f\",\"#f2e8cf\",\"#bcd379\",\"#f2e8cf\",\"#f2e8cf\",\"#bcd379\",\"#bcd379\",\"#f2e8cf\",\"#f2e8cf\",\"#f2e8cf\",\"#bcd379\",\"#f87a63\",\"#f2e8cf\",\"#326e2f\",\"#326e2f\",\"#f2e8cf\",\"#f2e8cf\",\"#f2e8cf\",\"#326e2f\",\"#f2e8cf\",\"#326e2f\",\"#f2e8cf\",\"#f2e8cf\",\"#bcd379\",\"#bcd379\",\"#f2e8cf\",\"#bcd379\",\"#f2e8cf\",\"#f87a63\",\"#f2e8cf\",\"#f2e8cf\",\"#bcd379\",\"#f87a63\",\"#f2e8cf\",\"#bcd379\",\"#bcd379\",\"#f2e8cf\",\"#bcd379\",\"#f2e8cf\",\"#f87a63\",\"#f2e8cf\",\"#f2e8cf\",\"#f2e8cf\",\"#f87a63\",\"#f2e8cf\",\"#f87a63\",\"#bcd379\",\"#f87a63\",\"#f2e8cf\",\"#bcd379\",\"#f2e8cf\",\"#bcd379\",\"#f2e8cf\",\"#f2e8cf\",\"#f2e8cf\",\"#f2e8cf\",\"#bcd379\",\"#f2e8cf\",\"#f87a63\",\"#326e2f\",\"#bcd379\",\"#bcd379\",\"#bcd379\",\"#f2e8cf\",\"#f2e8cf\",\"#f87a63\",\"#f2e8cf\",\"#f87a63\",\"#f2e8cf\",\"#d32e05\",\"#f2e8cf\",\"#bcd379\",\"#f2e8cf\",\"#f87a63\",\"#326e2f\",\"#f2e8cf\",\"#f2e8cf\",\"#f2e8cf\",\"#bcd379\",\"#f2e8cf\",\"#bcd379\",\"#326e2f\",\"#f2e8cf\",\"#f87a63\",\"#f2e8cf\",\"#f2e8cf\",\"#bcd379\",\"#bcd379\",\"#f2e8cf\",\"#bcd379\",\"#f87a63\",\"#f2e8cf\",\"#bcd379\",\"#f87a63\",\"#f87a63\",\"#bcd379\",\"#f2e8cf\",\"#f87a63\",\"#bcd379\",\"#bcd379\",\"#bcd379\",\"#f2e8cf\",\"#f2e8cf\",\"#bcd379\",\"#bcd379\",\"#f2e8cf\",\"#f2e8cf\",\"#f2e8cf\",\"#f2e8cf\",\"#f2e8cf\",\"#326e2f\",\"#bcd379\",\"#326e2f\",\"#bcd379\",\"#f2e8cf\",\"#f2e8cf\",\"#f2e8cf\",\"#f2e8cf\",\"#f2e8cf\",\"#f2e8cf\",\"#bcd379\",\"#bcd379\",\"#f2e8cf\",\"#f87a63\",\"#f2e8cf\",\"#d32e05\",\"#f2e8cf\",\"#f2e8cf\",\"#bcd379\",\"#f2e8cf\",\"#f87a63\",\"#f2e8cf\",\"#326e2f\",\"#f2e8cf\",\"#bcd379\",\"#f2e8cf\",\"#bcd379\",\"#f2e8cf\",\"#bcd379\",\"#f2e8cf\",\"#bcd379\",\"#f2e8cf\",\"#f2e8cf\",\"#f2e8cf\",\"#bcd379\",\"#f2e8cf\",\"#f87a63\",\"#f2e8cf\",\"#f87a63\",\"#f2e8cf\",\"#f2e8cf\",\"#bcd379\",\"#d32e05\",\"#f2e8cf\",\"#f2e8cf\",\"#f2e8cf\",\"#bcd379\",\"#bcd379\",\"#f87a63\",\"#bcd379\",\"#f2e8cf\",\"#f2e8cf\",\"#f2e8cf\",\"#f87a63\",\"#f87a63\",\"#bcd379\",\"#f2e8cf\",\"#bcd379\",\"#f87a63\",\"#f2e8cf\",\"#bcd379\",\"#bcd379\",\"#bcd379\",\"#f2e8cf\",\"#f2e8cf\",\"#f2e8cf\",\"#f2e8cf\",\"#f2e8cf\",\"#f2e8cf\",\"#bcd379\",\"#f87a63\",\"#f2e8cf\",\"#bcd379\",\"#bcd379\",\"#f87a63\",\"#f2e8cf\",\"#f2e8cf\",\"#f87a63\",\"#f87a63\",\"#f2e8cf\",\"#f2e8cf\",\"#f2e8cf\",\"#bcd379\",\"#f2e8cf\",\"#f2e8cf\",\"#f2e8cf\",\"#326e2f\",\"#f2e8cf\",\"#f2e8cf\",\"#bcd379\",\"#f2e8cf\",\"#bcd379\",\"#f87a63\",\"#326e2f\",\"#f2e8cf\",\"#f87a63\",\"#bcd379\",\"#f2e8cf\",\"#bcd379\",\"#bcd379\",\"#f2e8cf\",\"#f2e8cf\",\"#f2e8cf\",\"#bcd379\",\"#f2e8cf\",\"#f87a63\",\"#bcd379\",\"#f2e8cf\",\"#f2e8cf\",\"#f2e8cf\",\"#f2e8cf\",\"#f2e8cf\",\"#f2e8cf\",\"#f2e8cf\",\"#bcd379\",\"#bcd379\",\"#bcd379\",\"#f87a63\",\"#f87a63\",\"#bcd379\",\"#f2e8cf\",\"#f2e8cf\",\"#f2e8cf\",\"#f2e8cf\",\"#bcd379\",\"#f87a63\",\"#bcd379\",\"#bcd379\",\"#f2e8cf\",\"#f2e8cf\",\"#d32e05\",\"#f87a63\",\"#f2e8cf\",\"#f87a63\",\"#bcd379\",\"#bcd379\",\"#f2e8cf\",\"#f87a63\",\"#bcd379\",\"#f87a63\",\"#f2e8cf\",\"#bcd379\",\"#f2e8cf\",\"#f2e8cf\",\"#f2e8cf\",\"#bcd379\",\"#326e2f\",\"#bcd379\",\"#bcd379\",\"#bcd379\",\"#f87a63\",\"#f87a63\",\"#bcd379\",\"#f87a63\",\"#bcd379\",\"#f2e8cf\",\"#bcd379\",\"#bcd379\",\"#f2e8cf\",\"#f2e8cf\",\"#f87a63\",\"#f2e8cf\",\"#f2e8cf\",\"#f2e8cf\",\"#f2e8cf\",\"#f2e8cf\",\"#f87a63\",\"#bcd379\",\"#f2e8cf\",\"#f2e8cf\",\"#bcd379\",\"#bcd379\",\"#f2e8cf\",\"#f2e8cf\",\"#f2e8cf\",\"#f2e8cf\",\"#bcd379\",\"#bcd379\",\"#f87a63\",\"#f2e8cf\",\"#f2e8cf\",\"#bcd379\",\"#f2e8cf\",\"#f87a63\",\"#f2e8cf\",\"#bcd379\",\"#bcd379\",\"#bcd379\",\"#f2e8cf\",\"#f2e8cf\",\"#bcd379\",\"#f2e8cf\",\"#bcd379\",\"#bcd379\",\"#f87a63\",\"#f2e8cf\",\"#f2e8cf\",\"#f2e8cf\",\"#bcd379\",\"#f2e8cf\",\"#f2e8cf\",\"#f2e8cf\",\"#bcd379\",\"#bcd379\",\"#bcd379\",\"#f2e8cf\",\"#f2e8cf\",\"#f2e8cf\",\"#f2e8cf\",\"#d32e05\",\"#f87a63\",\"#f87a63\",\"#bcd379\",\"#f2e8cf\",\"#326e2f\",\"#bcd379\",\"#f2e8cf\",\"#f2e8cf\",\"#f2e8cf\",\"#f2e8cf\",\"#f2e8cf\",\"#f2e8cf\",\"#f2e8cf\",\"#bcd379\",\"#bcd379\",\"#f2e8cf\",\"#f2e8cf\",\"#f87a63\",\"#f2e8cf\",\"#f87a63\",\"#bcd379\",\"#f2e8cf\",\"#bcd379\",\"#f2e8cf\",\"#f2e8cf\",\"#f2e8cf\",\"#f2e8cf\",\"#f2e8cf\",\"#bcd379\",\"#f2e8cf\",\"#bcd379\",\"#f2e8cf\",\"#f2e8cf\",\"#326e2f\",\"#bcd379\",\"#f2e8cf\",\"#bcd379\",\"#f87a63\",\"#bcd379\",\"#d32e05\",\"#326e2f\",\"#f2e8cf\",\"#f2e8cf\",\"#f87a63\",\"#f2e8cf\",\"#bcd379\",\"#f2e8cf\",\"#f2e8cf\",\"#f2e8cf\",\"#f2e8cf\",\"#f2e8cf\",\"#f2e8cf\",\"#f2e8cf\",\"#f2e8cf\",\"#f2e8cf\",\"#f2e8cf\",\"#f87a63\",\"#f2e8cf\",\"#f2e8cf\",\"#bcd379\",\"#f2e8cf\",\"#f87a63\",\"#f2e8cf\",\"#bcd379\",\"#bcd379\",\"#f2e8cf\",\"#f2e8cf\",\"#f2e8cf\",\"#f2e8cf\",\"#f2e8cf\",\"#f2e8cf\",\"#bcd379\",\"#bcd379\",\"#f2e8cf\",\"#f2e8cf\",\"#f2e8cf\",\"#f2e8cf\",\"#bcd379\",\"#bcd379\",\"#f2e8cf\",\"#f2e8cf\",\"#f2e8cf\",\"#f2e8cf\",\"#f2e8cf\",\"#bcd379\",\"#f2e8cf\",\"#bcd379\",\"#f2e8cf\",\"#f2e8cf\",\"#f2e8cf\",\"#f2e8cf\",\"#bcd379\",\"#f2e8cf\",\"#f2e8cf\",\"#f87a63\",\"#f2e8cf\",\"#d32e05\",\"#bcd379\",\"#f87a63\",\"#f2e8cf\",\"#bcd379\",\"#f2e8cf\",\"#d32e05\",\"#f2e8cf\",\"#f87a63\",\"#f2e8cf\",\"#326e2f\",\"#f2e8cf\",\"#bcd379\",\"#bcd379\",\"#f2e8cf\",\"#f2e8cf\",\"#bcd379\",\"#f2e8cf\",\"#f2e8cf\",\"#f2e8cf\",\"#f2e8cf\",\"#bcd379\",\"#f2e8cf\",\"#bcd379\",\"#bcd379\",\"#bcd379\",\"#f2e8cf\",\"#f2e8cf\",\"#f2e8cf\",\"#f2e8cf\",\"#f2e8cf\",\"#f2e8cf\",\"#f87a63\",\"#bcd379\",\"#bcd379\",\"#f2e8cf\",\"#f2e8cf\",\"#f87a63\",\"#f2e8cf\",\"#f87a63\",\"#bcd379\",\"#f2e8cf\",\"#bcd379\",\"#f2e8cf\",\"#bcd379\",\"#f2e8cf\",\"#f2e8cf\",\"#f2e8cf\",\"#bcd379\",\"#f2e8cf\",\"#f2e8cf\",\"#bcd379\",\"#bcd379\",\"#f2e8cf\",\"#bcd379\",\"#f2e8cf\",\"#f2e8cf\",\"#f2e8cf\",\"#bcd379\",\"#f2e8cf\",\"#f87a63\",\"#bcd379\",\"#326e2f\",\"#f2e8cf\",\"#f2e8cf\",\"#f2e8cf\",\"#bcd379\",\"#f87a63\",\"#f87a63\",\"#f87a63\",\"#bcd379\",\"#f2e8cf\",\"#d32e05\",\"#f2e8cf\",\"#f2e8cf\",\"#d32e05\",\"#f2e8cf\",\"#f87a63\",\"#bcd379\",\"#bcd379\",\"#326e2f\",\"#f2e8cf\",\"#f2e8cf\",\"#bcd379\",\"#bcd379\",\"#bcd379\",\"#f2e8cf\",\"#f2e8cf\",\"#f2e8cf\",\"#f2e8cf\",\"#bcd379\",\"#f87a63\",\"#f87a63\",\"#f87a63\",\"#f2e8cf\",\"#f2e8cf\",\"#f2e8cf\",\"#bcd379\",\"#f87a63\",\"#f2e8cf\",\"#f2e8cf\",\"#326e2f\",\"#f2e8cf\",\"#f2e8cf\",\"#bcd379\",\"#f2e8cf\",\"#f2e8cf\",\"#f2e8cf\",\"#f2e8cf\",\"#f2e8cf\",\"#f2e8cf\",\"#f2e8cf\",\"#f2e8cf\",\"#bcd379\",\"#f87a63\",\"#f2e8cf\",\"#f2e8cf\",\"#bcd379\",\"#f87a63\",\"#bcd379\",\"#f2e8cf\",\"#bcd379\",\"#f2e8cf\",\"#bcd379\",\"#f2e8cf\",\"#f2e8cf\",\"#f2e8cf\",\"#f2e8cf\",\"#f2e8cf\",\"#bcd379\",\"#f2e8cf\",\"#f2e8cf\",\"#f2e8cf\",\"#f2e8cf\",\"#f2e8cf\",\"#f2e8cf\",\"#bcd379\",\"#bcd379\",\"#f2e8cf\",\"#f2e8cf\",\"#f2e8cf\",\"#bcd379\",\"#bcd379\",\"#f2e8cf\",\"#f2e8cf\",\"#bcd379\",\"#bcd379\",\"#f87a63\",\"#f87a63\",\"#bcd379\",\"#bcd379\",\"#bcd379\",\"#f87a63\",\"#f87a63\",\"#f87a63\",\"#bcd379\",\"#bcd379\",\"#f2e8cf\",\"#f2e8cf\",\"#f2e8cf\",\"#f2e8cf\",\"#bcd379\",\"#f2e8cf\",\"#f87a63\",\"#f2e8cf\",\"#f2e8cf\",\"#f2e8cf\",\"#326e2f\",\"#f87a63\",\"#bcd379\",\"#bcd379\",\"#f2e8cf\",\"#bcd379\",\"#f2e8cf\",\"#bcd379\",\"#f2e8cf\",\"#bcd379\",\"#bcd379\",\"#bcd379\",\"#326e2f\",\"#f2e8cf\",\"#bcd379\",\"#f87a63\",\"#f2e8cf\",\"#bcd379\",\"#bcd379\",\"#f2e8cf\",\"#f2e8cf\",\"#f87a63\",\"#bcd379\",\"#f2e8cf\",\"#f2e8cf\",\"#bcd379\",\"#bcd379\",\"#f2e8cf\",\"#f2e8cf\",\"#f2e8cf\",\"#f2e8cf\",\"#f2e8cf\",\"#d32e05\",\"#f2e8cf\",\"#bcd379\",\"#f2e8cf\",\"#bcd379\",\"#f87a63\",\"#f2e8cf\",\"#f2e8cf\",\"#f2e8cf\",\"#326e2f\",\"#bcd379\",\"#f2e8cf\"]},\"name\":\"\",\"showlegend\":true,\"type\":\"pie\"}],                        {\"template\":{\"data\":{\"histogram2dcontour\":[{\"type\":\"histogram2dcontour\",\"colorbar\":{\"outlinewidth\":0,\"ticks\":\"\"},\"colorscale\":[[0.0,\"#0d0887\"],[0.1111111111111111,\"#46039f\"],[0.2222222222222222,\"#7201a8\"],[0.3333333333333333,\"#9c179e\"],[0.4444444444444444,\"#bd3786\"],[0.5555555555555556,\"#d8576b\"],[0.6666666666666666,\"#ed7953\"],[0.7777777777777778,\"#fb9f3a\"],[0.8888888888888888,\"#fdca26\"],[1.0,\"#f0f921\"]]}],\"choropleth\":[{\"type\":\"choropleth\",\"colorbar\":{\"outlinewidth\":0,\"ticks\":\"\"}}],\"histogram2d\":[{\"type\":\"histogram2d\",\"colorbar\":{\"outlinewidth\":0,\"ticks\":\"\"},\"colorscale\":[[0.0,\"#0d0887\"],[0.1111111111111111,\"#46039f\"],[0.2222222222222222,\"#7201a8\"],[0.3333333333333333,\"#9c179e\"],[0.4444444444444444,\"#bd3786\"],[0.5555555555555556,\"#d8576b\"],[0.6666666666666666,\"#ed7953\"],[0.7777777777777778,\"#fb9f3a\"],[0.8888888888888888,\"#fdca26\"],[1.0,\"#f0f921\"]]}],\"heatmap\":[{\"type\":\"heatmap\",\"colorbar\":{\"outlinewidth\":0,\"ticks\":\"\"},\"colorscale\":[[0.0,\"#0d0887\"],[0.1111111111111111,\"#46039f\"],[0.2222222222222222,\"#7201a8\"],[0.3333333333333333,\"#9c179e\"],[0.4444444444444444,\"#bd3786\"],[0.5555555555555556,\"#d8576b\"],[0.6666666666666666,\"#ed7953\"],[0.7777777777777778,\"#fb9f3a\"],[0.8888888888888888,\"#fdca26\"],[1.0,\"#f0f921\"]]}],\"heatmapgl\":[{\"type\":\"heatmapgl\",\"colorbar\":{\"outlinewidth\":0,\"ticks\":\"\"},\"colorscale\":[[0.0,\"#0d0887\"],[0.1111111111111111,\"#46039f\"],[0.2222222222222222,\"#7201a8\"],[0.3333333333333333,\"#9c179e\"],[0.4444444444444444,\"#bd3786\"],[0.5555555555555556,\"#d8576b\"],[0.6666666666666666,\"#ed7953\"],[0.7777777777777778,\"#fb9f3a\"],[0.8888888888888888,\"#fdca26\"],[1.0,\"#f0f921\"]]}],\"contourcarpet\":[{\"type\":\"contourcarpet\",\"colorbar\":{\"outlinewidth\":0,\"ticks\":\"\"}}],\"contour\":[{\"type\":\"contour\",\"colorbar\":{\"outlinewidth\":0,\"ticks\":\"\"},\"colorscale\":[[0.0,\"#0d0887\"],[0.1111111111111111,\"#46039f\"],[0.2222222222222222,\"#7201a8\"],[0.3333333333333333,\"#9c179e\"],[0.4444444444444444,\"#bd3786\"],[0.5555555555555556,\"#d8576b\"],[0.6666666666666666,\"#ed7953\"],[0.7777777777777778,\"#fb9f3a\"],[0.8888888888888888,\"#fdca26\"],[1.0,\"#f0f921\"]]}],\"surface\":[{\"type\":\"surface\",\"colorbar\":{\"outlinewidth\":0,\"ticks\":\"\"},\"colorscale\":[[0.0,\"#0d0887\"],[0.1111111111111111,\"#46039f\"],[0.2222222222222222,\"#7201a8\"],[0.3333333333333333,\"#9c179e\"],[0.4444444444444444,\"#bd3786\"],[0.5555555555555556,\"#d8576b\"],[0.6666666666666666,\"#ed7953\"],[0.7777777777777778,\"#fb9f3a\"],[0.8888888888888888,\"#fdca26\"],[1.0,\"#f0f921\"]]}],\"mesh3d\":[{\"type\":\"mesh3d\",\"colorbar\":{\"outlinewidth\":0,\"ticks\":\"\"}}],\"scatter\":[{\"fillpattern\":{\"fillmode\":\"overlay\",\"size\":10,\"solidity\":0.2},\"type\":\"scatter\"}],\"parcoords\":[{\"type\":\"parcoords\",\"line\":{\"colorbar\":{\"outlinewidth\":0,\"ticks\":\"\"}}}],\"scatterpolargl\":[{\"type\":\"scatterpolargl\",\"marker\":{\"colorbar\":{\"outlinewidth\":0,\"ticks\":\"\"}}}],\"bar\":[{\"error_x\":{\"color\":\"#2a3f5f\"},\"error_y\":{\"color\":\"#2a3f5f\"},\"marker\":{\"line\":{\"color\":\"#E5ECF6\",\"width\":0.5},\"pattern\":{\"fillmode\":\"overlay\",\"size\":10,\"solidity\":0.2}},\"type\":\"bar\"}],\"scattergeo\":[{\"type\":\"scattergeo\",\"marker\":{\"colorbar\":{\"outlinewidth\":0,\"ticks\":\"\"}}}],\"scatterpolar\":[{\"type\":\"scatterpolar\",\"marker\":{\"colorbar\":{\"outlinewidth\":0,\"ticks\":\"\"}}}],\"histogram\":[{\"marker\":{\"pattern\":{\"fillmode\":\"overlay\",\"size\":10,\"solidity\":0.2}},\"type\":\"histogram\"}],\"scattergl\":[{\"type\":\"scattergl\",\"marker\":{\"colorbar\":{\"outlinewidth\":0,\"ticks\":\"\"}}}],\"scatter3d\":[{\"type\":\"scatter3d\",\"line\":{\"colorbar\":{\"outlinewidth\":0,\"ticks\":\"\"}},\"marker\":{\"colorbar\":{\"outlinewidth\":0,\"ticks\":\"\"}}}],\"scattermapbox\":[{\"type\":\"scattermapbox\",\"marker\":{\"colorbar\":{\"outlinewidth\":0,\"ticks\":\"\"}}}],\"scatterternary\":[{\"type\":\"scatterternary\",\"marker\":{\"colorbar\":{\"outlinewidth\":0,\"ticks\":\"\"}}}],\"scattercarpet\":[{\"type\":\"scattercarpet\",\"marker\":{\"colorbar\":{\"outlinewidth\":0,\"ticks\":\"\"}}}],\"carpet\":[{\"aaxis\":{\"endlinecolor\":\"#2a3f5f\",\"gridcolor\":\"white\",\"linecolor\":\"white\",\"minorgridcolor\":\"white\",\"startlinecolor\":\"#2a3f5f\"},\"baxis\":{\"endlinecolor\":\"#2a3f5f\",\"gridcolor\":\"white\",\"linecolor\":\"white\",\"minorgridcolor\":\"white\",\"startlinecolor\":\"#2a3f5f\"},\"type\":\"carpet\"}],\"table\":[{\"cells\":{\"fill\":{\"color\":\"#EBF0F8\"},\"line\":{\"color\":\"white\"}},\"header\":{\"fill\":{\"color\":\"#C8D4E3\"},\"line\":{\"color\":\"white\"}},\"type\":\"table\"}],\"barpolar\":[{\"marker\":{\"line\":{\"color\":\"#E5ECF6\",\"width\":0.5},\"pattern\":{\"fillmode\":\"overlay\",\"size\":10,\"solidity\":0.2}},\"type\":\"barpolar\"}],\"pie\":[{\"automargin\":true,\"type\":\"pie\"}]},\"layout\":{\"autotypenumbers\":\"strict\",\"colorway\":[\"#636efa\",\"#EF553B\",\"#00cc96\",\"#ab63fa\",\"#FFA15A\",\"#19d3f3\",\"#FF6692\",\"#B6E880\",\"#FF97FF\",\"#FECB52\"],\"font\":{\"color\":\"#2a3f5f\"},\"hovermode\":\"closest\",\"hoverlabel\":{\"align\":\"left\"},\"paper_bgcolor\":\"white\",\"plot_bgcolor\":\"#E5ECF6\",\"polar\":{\"bgcolor\":\"#E5ECF6\",\"angularaxis\":{\"gridcolor\":\"white\",\"linecolor\":\"white\",\"ticks\":\"\"},\"radialaxis\":{\"gridcolor\":\"white\",\"linecolor\":\"white\",\"ticks\":\"\"}},\"ternary\":{\"bgcolor\":\"#E5ECF6\",\"aaxis\":{\"gridcolor\":\"white\",\"linecolor\":\"white\",\"ticks\":\"\"},\"baxis\":{\"gridcolor\":\"white\",\"linecolor\":\"white\",\"ticks\":\"\"},\"caxis\":{\"gridcolor\":\"white\",\"linecolor\":\"white\",\"ticks\":\"\"}},\"coloraxis\":{\"colorbar\":{\"outlinewidth\":0,\"ticks\":\"\"}},\"colorscale\":{\"sequential\":[[0.0,\"#0d0887\"],[0.1111111111111111,\"#46039f\"],[0.2222222222222222,\"#7201a8\"],[0.3333333333333333,\"#9c179e\"],[0.4444444444444444,\"#bd3786\"],[0.5555555555555556,\"#d8576b\"],[0.6666666666666666,\"#ed7953\"],[0.7777777777777778,\"#fb9f3a\"],[0.8888888888888888,\"#fdca26\"],[1.0,\"#f0f921\"]],\"sequentialminus\":[[0.0,\"#0d0887\"],[0.1111111111111111,\"#46039f\"],[0.2222222222222222,\"#7201a8\"],[0.3333333333333333,\"#9c179e\"],[0.4444444444444444,\"#bd3786\"],[0.5555555555555556,\"#d8576b\"],[0.6666666666666666,\"#ed7953\"],[0.7777777777777778,\"#fb9f3a\"],[0.8888888888888888,\"#fdca26\"],[1.0,\"#f0f921\"]],\"diverging\":[[0,\"#8e0152\"],[0.1,\"#c51b7d\"],[0.2,\"#de77ae\"],[0.3,\"#f1b6da\"],[0.4,\"#fde0ef\"],[0.5,\"#f7f7f7\"],[0.6,\"#e6f5d0\"],[0.7,\"#b8e186\"],[0.8,\"#7fbc41\"],[0.9,\"#4d9221\"],[1,\"#276419\"]]},\"xaxis\":{\"gridcolor\":\"white\",\"linecolor\":\"white\",\"ticks\":\"\",\"title\":{\"standoff\":15},\"zerolinecolor\":\"white\",\"automargin\":true,\"zerolinewidth\":2},\"yaxis\":{\"gridcolor\":\"white\",\"linecolor\":\"white\",\"ticks\":\"\",\"title\":{\"standoff\":15},\"zerolinecolor\":\"white\",\"automargin\":true,\"zerolinewidth\":2},\"scene\":{\"xaxis\":{\"backgroundcolor\":\"#E5ECF6\",\"gridcolor\":\"white\",\"linecolor\":\"white\",\"showbackground\":true,\"ticks\":\"\",\"zerolinecolor\":\"white\",\"gridwidth\":2},\"yaxis\":{\"backgroundcolor\":\"#E5ECF6\",\"gridcolor\":\"white\",\"linecolor\":\"white\",\"showbackground\":true,\"ticks\":\"\",\"zerolinecolor\":\"white\",\"gridwidth\":2},\"zaxis\":{\"backgroundcolor\":\"#E5ECF6\",\"gridcolor\":\"white\",\"linecolor\":\"white\",\"showbackground\":true,\"ticks\":\"\",\"zerolinecolor\":\"white\",\"gridwidth\":2}},\"shapedefaults\":{\"line\":{\"color\":\"#2a3f5f\"}},\"annotationdefaults\":{\"arrowcolor\":\"#2a3f5f\",\"arrowhead\":0,\"arrowwidth\":1},\"geo\":{\"bgcolor\":\"white\",\"landcolor\":\"#E5ECF6\",\"subunitcolor\":\"white\",\"showland\":true,\"showlakes\":true,\"lakecolor\":\"white\"},\"title\":{\"x\":0.05},\"mapbox\":{\"style\":\"light\"}}},\"legend\":{\"tracegroupgap\":0},\"title\":{\"text\":\"Pie chart of each sentiment class\"}},                        {\"responsive\": true}                    ).then(function(){\n",
       "                            \n",
       "var gd = document.getElementById('73a4ee63-bbfd-4e19-be18-b35e2eed26e5');\n",
       "var x = new MutationObserver(function (mutations, observer) {{\n",
       "        var display = window.getComputedStyle(gd).display;\n",
       "        if (!display || display === 'none') {{\n",
       "            console.log([gd, 'removed!']);\n",
       "            Plotly.purge(gd);\n",
       "            observer.disconnect();\n",
       "        }}\n",
       "}});\n",
       "\n",
       "// Listen for the removal of the full notebook cells\n",
       "var notebookContainer = gd.closest('#notebook-container');\n",
       "if (notebookContainer) {{\n",
       "    x.observe(notebookContainer, {childList: true});\n",
       "}}\n",
       "\n",
       "// Listen for the clearing of the current output cell\n",
       "var outputEl = gd.closest('.output');\n",
       "if (outputEl) {{\n",
       "    x.observe(outputEl, {childList: true});\n",
       "}}\n",
       "\n",
       "                        })                };                });            </script>        </div>"
      ]
     },
     "metadata": {},
     "output_type": "display_data"
    }
   ],
   "source": [
    "fig = px.pie(gpt_sentiment, names='post_sentiment_class', title='Pie chart of each sentiment class',\n",
    "             color='post_sentiment_class', color_discrete_map=color_palette)\n",
    "\n",
    "fig.show()"
   ]
  },
  {
   "cell_type": "markdown",
   "id": "3d97caa8",
   "metadata": {},
   "source": [
    "## Data Pre-processing"
   ]
  },
  {
   "cell_type": "code",
   "execution_count": 80,
   "id": "aad7fb28",
   "metadata": {},
   "outputs": [
    {
     "data": {
      "text/html": [
       "<div>\n",
       "<style scoped>\n",
       "    .dataframe tbody tr th:only-of-type {\n",
       "        vertical-align: middle;\n",
       "    }\n",
       "\n",
       "    .dataframe tbody tr th {\n",
       "        vertical-align: top;\n",
       "    }\n",
       "\n",
       "    .dataframe thead th {\n",
       "        text-align: right;\n",
       "    }\n",
       "</style>\n",
       "<table border=\"1\" class=\"dataframe\">\n",
       "  <thead>\n",
       "    <tr style=\"text-align: right;\">\n",
       "      <th></th>\n",
       "      <th>post_id</th>\n",
       "      <th>date_generated</th>\n",
       "      <th>title</th>\n",
       "      <th>title_length</th>\n",
       "      <th>subjectivity_post</th>\n",
       "      <th>avg_polarity_news</th>\n",
       "      <th>polarity_post</th>\n",
       "      <th>post_sentiment_class</th>\n",
       "    </tr>\n",
       "  </thead>\n",
       "  <tbody>\n",
       "    <tr>\n",
       "      <th>0</th>\n",
       "      <td>655026de54a7246a1e6f98371</td>\n",
       "      <td>2023-11-11</td>\n",
       "      <td>Join Talkie's AI Character Contest! 🎨 Prize Po...</td>\n",
       "      <td>83</td>\n",
       "      <td>0.000</td>\n",
       "      <td>0.07215</td>\n",
       "      <td>0.000</td>\n",
       "      <td>neutral</td>\n",
       "    </tr>\n",
       "    <tr>\n",
       "      <th>1</th>\n",
       "      <td>655026de54a7246a1e6f983710</td>\n",
       "      <td>2023-11-11</td>\n",
       "      <td>‘Motion Brush’ is new Runway Feature</td>\n",
       "      <td>36</td>\n",
       "      <td>0.455</td>\n",
       "      <td>0.07215</td>\n",
       "      <td>0.136</td>\n",
       "      <td>positive</td>\n",
       "    </tr>\n",
       "    <tr>\n",
       "      <th>2</th>\n",
       "      <td>655026de54a7246a1e6f98372</td>\n",
       "      <td>2023-11-11</td>\n",
       "      <td>Weekly Self-Promotional Mega Thread 7, 06.11.2...</td>\n",
       "      <td>62</td>\n",
       "      <td>0.000</td>\n",
       "      <td>0.07215</td>\n",
       "      <td>0.000</td>\n",
       "      <td>neutral</td>\n",
       "    </tr>\n",
       "    <tr>\n",
       "      <th>3</th>\n",
       "      <td>655026de54a7246a1e6f98373</td>\n",
       "      <td>2023-11-11</td>\n",
       "      <td>Literal movie titles</td>\n",
       "      <td>20</td>\n",
       "      <td>0.000</td>\n",
       "      <td>0.07215</td>\n",
       "      <td>0.000</td>\n",
       "      <td>neutral</td>\n",
       "    </tr>\n",
       "    <tr>\n",
       "      <th>4</th>\n",
       "      <td>655026de54a7246a1e6f98374</td>\n",
       "      <td>2023-11-11</td>\n",
       "      <td>Did this hammered in the back of an Uber. I'm ...</td>\n",
       "      <td>78</td>\n",
       "      <td>0.300</td>\n",
       "      <td>0.07215</td>\n",
       "      <td>0.350</td>\n",
       "      <td>positive</td>\n",
       "    </tr>\n",
       "  </tbody>\n",
       "</table>\n",
       "</div>"
      ],
      "text/plain": [
       "                      post_id date_generated  \\\n",
       "0   655026de54a7246a1e6f98371     2023-11-11   \n",
       "1  655026de54a7246a1e6f983710     2023-11-11   \n",
       "2   655026de54a7246a1e6f98372     2023-11-11   \n",
       "3   655026de54a7246a1e6f98373     2023-11-11   \n",
       "4   655026de54a7246a1e6f98374     2023-11-11   \n",
       "\n",
       "                                               title  title_length  \\\n",
       "0  Join Talkie's AI Character Contest! 🎨 Prize Po...            83   \n",
       "1               ‘Motion Brush’ is new Runway Feature            36   \n",
       "2  Weekly Self-Promotional Mega Thread 7, 06.11.2...            62   \n",
       "3                               Literal movie titles            20   \n",
       "4  Did this hammered in the back of an Uber. I'm ...            78   \n",
       "\n",
       "   subjectivity_post  avg_polarity_news  polarity_post post_sentiment_class  \n",
       "0              0.000            0.07215          0.000              neutral  \n",
       "1              0.455            0.07215          0.136             positive  \n",
       "2              0.000            0.07215          0.000              neutral  \n",
       "3              0.000            0.07215          0.000              neutral  \n",
       "4              0.300            0.07215          0.350             positive  "
      ]
     },
     "execution_count": 80,
     "metadata": {},
     "output_type": "execute_result"
    }
   ],
   "source": [
    "gpt_sentiment.head()"
   ]
  },
  {
   "cell_type": "code",
   "execution_count": null,
   "id": "b102fd93",
   "metadata": {},
   "outputs": [],
   "source": [
    "posts_polarity =  pd.DataFrame({'date':gpt_sentimentd['date_generated'], 'polarity': gpt_sentimentd['polarity_post'], 'type': 'Posts'})\n",
    "news_polarity =  pd.DataFrame({'date':gpt_sentimentd['date_generated'], 'polarity': gpt_sentimentd['avg_polarity_news'], 'type': 'Posts'})\n"
   ]
  },
  {
   "cell_type": "code",
   "execution_count": 78,
   "id": "6adc8c96",
   "metadata": {},
   "outputs": [
    {
     "data": {
      "text/html": [
       "<div>\n",
       "<style scoped>\n",
       "    .dataframe tbody tr th:only-of-type {\n",
       "        vertical-align: middle;\n",
       "    }\n",
       "\n",
       "    .dataframe tbody tr th {\n",
       "        vertical-align: top;\n",
       "    }\n",
       "\n",
       "    .dataframe thead th {\n",
       "        text-align: right;\n",
       "    }\n",
       "</style>\n",
       "<table border=\"1\" class=\"dataframe\">\n",
       "  <thead>\n",
       "    <tr style=\"text-align: right;\">\n",
       "      <th></th>\n",
       "      <th>date</th>\n",
       "      <th>polarity</th>\n",
       "      <th>type</th>\n",
       "    </tr>\n",
       "  </thead>\n",
       "  <tbody>\n",
       "    <tr>\n",
       "      <th>0</th>\n",
       "      <td>2023-11-11</td>\n",
       "      <td>0.000</td>\n",
       "      <td>News</td>\n",
       "    </tr>\n",
       "    <tr>\n",
       "      <th>1</th>\n",
       "      <td>2023-11-11</td>\n",
       "      <td>0.050</td>\n",
       "      <td>News</td>\n",
       "    </tr>\n",
       "    <tr>\n",
       "      <th>2</th>\n",
       "      <td>2023-11-11</td>\n",
       "      <td>0.187</td>\n",
       "      <td>News</td>\n",
       "    </tr>\n",
       "    <tr>\n",
       "      <th>3</th>\n",
       "      <td>2023-11-11</td>\n",
       "      <td>0.200</td>\n",
       "      <td>News</td>\n",
       "    </tr>\n",
       "    <tr>\n",
       "      <th>4</th>\n",
       "      <td>2023-11-11</td>\n",
       "      <td>0.000</td>\n",
       "      <td>News</td>\n",
       "    </tr>\n",
       "    <tr>\n",
       "      <th>...</th>\n",
       "      <td>...</td>\n",
       "      <td>...</td>\n",
       "      <td>...</td>\n",
       "    </tr>\n",
       "    <tr>\n",
       "      <th>1145</th>\n",
       "      <td>2023-12-11</td>\n",
       "      <td>0.000</td>\n",
       "      <td>Posts</td>\n",
       "    </tr>\n",
       "    <tr>\n",
       "      <th>1146</th>\n",
       "      <td>2023-12-11</td>\n",
       "      <td>0.000</td>\n",
       "      <td>Posts</td>\n",
       "    </tr>\n",
       "    <tr>\n",
       "      <th>1147</th>\n",
       "      <td>2023-12-11</td>\n",
       "      <td>0.800</td>\n",
       "      <td>Posts</td>\n",
       "    </tr>\n",
       "    <tr>\n",
       "      <th>1148</th>\n",
       "      <td>2023-12-11</td>\n",
       "      <td>0.500</td>\n",
       "      <td>Posts</td>\n",
       "    </tr>\n",
       "    <tr>\n",
       "      <th>1149</th>\n",
       "      <td>2023-12-11</td>\n",
       "      <td>0.000</td>\n",
       "      <td>Posts</td>\n",
       "    </tr>\n",
       "  </tbody>\n",
       "</table>\n",
       "<p>3507 rows × 3 columns</p>\n",
       "</div>"
      ],
      "text/plain": [
       "            date  polarity   type\n",
       "0     2023-11-11     0.000   News\n",
       "1     2023-11-11     0.050   News\n",
       "2     2023-11-11     0.187   News\n",
       "3     2023-11-11     0.200   News\n",
       "4     2023-11-11     0.000   News\n",
       "...          ...       ...    ...\n",
       "1145  2023-12-11     0.000  Posts\n",
       "1146  2023-12-11     0.000  Posts\n",
       "1147  2023-12-11     0.800  Posts\n",
       "1148  2023-12-11     0.500  Posts\n",
       "1149  2023-12-11     0.000  Posts\n",
       "\n",
       "[3507 rows x 3 columns]"
      ]
     },
     "execution_count": 78,
     "metadata": {},
     "output_type": "execute_result"
    }
   ],
   "source": [
    "# Create DataFrames from the two tables\n",
    "posts_polarity = pd.DataFrame({'date': gpt_post['date_generated'], 'polarity': gpt_post['polarity'], 'type': 'Posts'})\n",
    "news_polarity = pd.DataFrame({'date': gpt_news['date_generated'], 'polarity': gpt_news['polarity'], 'type': 'News'})\n",
    "\n",
    "# Combine the DataFrames\n",
    "polarity_combined = pd.concat([news_polarity, posts_polarity ])\n",
    "\n"
   ]
  },
  {
   "cell_type": "code",
   "execution_count": null,
   "id": "6547422a",
   "metadata": {},
   "outputs": [],
   "source": []
  },
  {
   "cell_type": "code",
   "execution_count": null,
   "id": "e7edfd0f",
   "metadata": {},
   "outputs": [],
   "source": []
  },
  {
   "cell_type": "code",
   "execution_count": null,
   "id": "8ace9849",
   "metadata": {},
   "outputs": [],
   "source": []
  },
  {
   "cell_type": "code",
   "execution_count": null,
   "id": "480dded3",
   "metadata": {},
   "outputs": [],
   "source": []
  },
  {
   "cell_type": "code",
   "execution_count": null,
   "id": "9f53e4ec",
   "metadata": {},
   "outputs": [],
   "source": []
  },
  {
   "cell_type": "code",
   "execution_count": null,
   "id": "c187197c",
   "metadata": {},
   "outputs": [],
   "source": [
    "[['post_id', 'date_generated', 'title', 'subjectivity', 'polarity_y', 'polarity_x']]\n",
    "['news_id', 'subreddit_id', 'date_generated', 'date_inserted', 'polarity_x', 'polarity_y']"
   ]
  },
  {
   "cell_type": "code",
   "execution_count": null,
   "id": "ba5ad9d3",
   "metadata": {},
   "outputs": [],
   "source": [
    "['news_id', 'subreddit_id', 'date_generated', 'date_inserted','polarity']"
   ]
  },
  {
   "cell_type": "code",
   "execution_count": null,
   "id": "20fc4ca2",
   "metadata": {},
   "outputs": [],
   "source": []
  },
  {
   "cell_type": "code",
   "execution_count": null,
   "id": "8489f4b4",
   "metadata": {},
   "outputs": [],
   "source": []
  },
  {
   "cell_type": "code",
   "execution_count": null,
   "id": "e49669c2",
   "metadata": {},
   "outputs": [],
   "source": []
  },
  {
   "cell_type": "code",
   "execution_count": null,
   "id": "e275bc63",
   "metadata": {},
   "outputs": [],
   "source": []
  },
  {
   "cell_type": "code",
   "execution_count": null,
   "id": "8c2e5ecb",
   "metadata": {},
   "outputs": [],
   "source": []
  },
  {
   "cell_type": "code",
   "execution_count": null,
   "id": "26b2dc89",
   "metadata": {},
   "outputs": [],
   "source": []
  },
  {
   "cell_type": "code",
   "execution_count": null,
   "id": "b357ac91",
   "metadata": {},
   "outputs": [],
   "source": []
  }
 ],
 "metadata": {
  "kernelspec": {
   "display_name": "Python 3 (ipykernel)",
   "language": "python",
   "name": "python3"
  },
  "language_info": {
   "codemirror_mode": {
    "name": "ipython",
    "version": 3
   },
   "file_extension": ".py",
   "mimetype": "text/x-python",
   "name": "python",
   "nbconvert_exporter": "python",
   "pygments_lexer": "ipython3",
   "version": "3.11.5"
  }
 },
 "nbformat": 4,
 "nbformat_minor": 5
}
